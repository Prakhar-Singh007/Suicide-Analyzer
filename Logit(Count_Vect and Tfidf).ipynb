{
 "cells": [
  {
   "cell_type": "code",
   "execution_count": 16,
   "id": "cb08c143",
   "metadata": {},
   "outputs": [],
   "source": [
    "import pandas as pd\n",
    "import numpy as np\n",
    "from sklearn.feature_extraction.text import CountVectorizer\n",
    "from sklearn.metrics import accuracy_score\n",
    "from sklearn.model_selection import train_test_split\n"
   ]
  },
  {
   "cell_type": "code",
   "execution_count": 17,
   "id": "e0399f25",
   "metadata": {},
   "outputs": [],
   "source": [
    "data=pd.read_csv('Suicide_Detection.csv', encoding = \"utf-8\")"
   ]
  },
  {
   "cell_type": "code",
   "execution_count": 18,
   "id": "0cb0697e",
   "metadata": {},
   "outputs": [
    {
     "data": {
      "text/plain": [
       "(231981, 4)"
      ]
     },
     "execution_count": 18,
     "metadata": {},
     "output_type": "execute_result"
    }
   ],
   "source": [
    "data.head()\n",
    "data.shape"
   ]
  },
  {
   "cell_type": "code",
   "execution_count": 19,
   "id": "a6e5ecc2",
   "metadata": {},
   "outputs": [],
   "source": [
    "Y=pd.get_dummies(data['class'])\n",
    "Y=Y.iloc[:,1].values"
   ]
  },
  {
   "cell_type": "code",
   "execution_count": 20,
   "id": "a65fed30",
   "metadata": {},
   "outputs": [],
   "source": [
    "cv=CountVectorizer(max_features=2000)\n",
    "X=cv.fit_transform(data['clean_msg']).toarray()"
   ]
  },
  {
   "cell_type": "code",
   "execution_count": 21,
   "id": "61a19d34",
   "metadata": {},
   "outputs": [
    {
     "name": "stderr",
     "output_type": "stream",
     "text": [
      "C:\\python310\\lib\\site-packages\\sklearn\\linear_model\\_logistic.py:458: ConvergenceWarning: lbfgs failed to converge (status=1):\n",
      "STOP: TOTAL NO. of ITERATIONS REACHED LIMIT.\n",
      "\n",
      "Increase the number of iterations (max_iter) or scale the data as shown in:\n",
      "    https://scikit-learn.org/stable/modules/preprocessing.html\n",
      "Please also refer to the documentation for alternative solver options:\n",
      "    https://scikit-learn.org/stable/modules/linear_model.html#logistic-regression\n",
      "  n_iter_i = _check_optimize_result(\n"
     ]
    },
    {
     "name": "stdout",
     "output_type": "stream",
     "text": [
      "Accuracy using CountVectorizer 0.9187662995452293\n"
     ]
    }
   ],
   "source": [
    "X_train, X_test, Y_train, Y_test = train_test_split(X, Y, test_size=0.20)\n",
    "from sklearn.linear_model import LogisticRegression\n",
    "classifier=LogisticRegression()\n",
    "classifier.fit(X_train,Y_train)\n",
    "Y_pred=classifier.predict(X_test)\n",
    "accuracy=accuracy_score(Y_test,Y_pred)\n",
    "print(\"Accuracy using CountVectorizer\",accuracy)"
   ]
  },
  {
   "cell_type": "code",
   "execution_count": 22,
   "id": "b59ce39c",
   "metadata": {},
   "outputs": [],
   "source": [
    "from sklearn.feature_extraction.text import TfidfVectorizer\n",
    "tfidf_v=TfidfVectorizer(max_features=2000,ngram_range=(1,2))\n",
    "Xt=tfidf_v.fit_transform(data['clean_msg']).toarray()"
   ]
  },
  {
   "cell_type": "code",
   "execution_count": 23,
   "id": "deaff558",
   "metadata": {},
   "outputs": [],
   "source": [
    "Xt_train, Xt_test, Yt_train, Yt_test = train_test_split(Xt, Y, test_size=0.20)"
   ]
  },
  {
   "cell_type": "code",
   "execution_count": 24,
   "id": "67e7261f",
   "metadata": {},
   "outputs": [
    {
     "name": "stdout",
     "output_type": "stream",
     "text": [
      "0.9271073560790568\n"
     ]
    }
   ],
   "source": [
    "from sklearn.linear_model import LogisticRegression\n",
    "classifier=LogisticRegression()\n",
    "classifier.fit(Xt_train,Yt_train)\n",
    "from sklearn.metrics import accuracy_score\n",
    "Yt_pred=classifier.predict(Xt_test)\n",
    "accuracy1=accuracy_score(Yt_test,Yt_pred)\n",
    "print(accuracy1)"
   ]
  },
  {
   "cell_type": "code",
   "execution_count": 25,
   "id": "0468a902",
   "metadata": {},
   "outputs": [
    {
     "name": "stdout",
     "output_type": "stream",
     "text": [
      "Accuracy using Tf-Idf 0.9271073560790568\n"
     ]
    }
   ],
   "source": [
    "print(\"Accuracy using Tf-Idf\",accuracy1)"
   ]
  },
  {
   "cell_type": "code",
   "execution_count": null,
   "id": "debf8217",
   "metadata": {},
   "outputs": [],
   "source": []
  }
 ],
 "metadata": {
  "kernelspec": {
   "display_name": "Python 3 (ipykernel)",
   "language": "python",
   "name": "python3"
  },
  "language_info": {
   "codemirror_mode": {
    "name": "ipython",
    "version": 3
   },
   "file_extension": ".py",
   "mimetype": "text/x-python",
   "name": "python",
   "nbconvert_exporter": "python",
   "pygments_lexer": "ipython3",
   "version": "3.10.5"
  }
 },
 "nbformat": 4,
 "nbformat_minor": 5
}
