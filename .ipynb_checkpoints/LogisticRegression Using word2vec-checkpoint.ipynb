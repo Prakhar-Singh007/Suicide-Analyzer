{
 "cells": [
  {
   "cell_type": "code",
   "execution_count": 1,
   "id": "963171cc",
   "metadata": {},
   "outputs": [],
   "source": [
    "import numpy as np\n",
    "import pandas as pd\n",
    "data=pd.read_csv('suicide_detection_final_cleaned.csv',encoding='utf-8')"
   ]
  },
  {
   "cell_type": "code",
   "execution_count": null,
   "id": "eb21f830",
   "metadata": {},
   "outputs": [],
   "source": [
    "from gensim.models import Word2Vec\n",
    "import nltk"
   ]
  },
  {
   "cell_type": "code",
   "execution_count": 3,
   "id": "8887fc39",
   "metadata": {},
   "outputs": [],
   "source": [
    "data['tokens'] = data['clean_msg'].apply(lambda x:nltk.word_tokenize(x))"
   ]
  },
  {
   "cell_type": "code",
   "execution_count": 4,
   "id": "de7ca00b",
   "metadata": {},
   "outputs": [],
   "source": [
    "model = Word2Vec(data['tokens'], vector_size=300, min_count=1)"
   ]
  },
  {
   "cell_type": "code",
   "execution_count": 5,
   "id": "34a4990f",
   "metadata": {},
   "outputs": [],
   "source": [
    "model.save(\"word2vec.model\")"
   ]
  },
  {
   "cell_type": "code",
   "execution_count": 8,
   "id": "0aca1045",
   "metadata": {},
   "outputs": [],
   "source": [
    "from gensim.models import KeyedVectors"
   ]
  },
  {
   "cell_type": "code",
   "execution_count": 9,
   "id": "77af6ee1",
   "metadata": {},
   "outputs": [],
   "source": [
    "model = KeyedVectors.load(\"word2vec.model\", mmap='r')"
   ]
  },
  {
   "cell_type": "code",
   "execution_count": 24,
   "id": "2b7d6f6f",
   "metadata": {
    "scrolled": true
   },
   "outputs": [
    {
     "data": {
      "text/plain": [
       "memmap([-1.11258797e-01,  7.61354923e-01, -1.27103817e+00,\n",
       "         3.89464527e-01, -6.16805963e-02,  2.77156293e-01,\n",
       "        -1.94275439e+00, -3.69916797e-01, -3.86375904e-01,\n",
       "        -1.07231688e+00, -1.25350550e-01,  2.02779591e-01,\n",
       "        -8.40758860e-01, -2.59952903e-01, -5.26356101e-01,\n",
       "         1.68564141e-01, -4.35804397e-01,  1.34629703e+00,\n",
       "        -3.68963987e-01,  2.12105811e-01, -1.41798019e+00,\n",
       "         3.42368156e-01, -1.09029484e+00,  1.36009738e-01,\n",
       "         3.42164963e-01, -1.20446277e+00,  2.40940616e-01,\n",
       "         2.81015664e-01, -1.27986312e+00, -2.36717939e+00,\n",
       "        -2.29206860e-01,  1.19994354e+00, -3.60586643e-01,\n",
       "         8.59547734e-01, -9.97486949e-01,  9.96224582e-01,\n",
       "         5.68274796e-01, -2.37947069e-02,  2.62295127e-01,\n",
       "         4.29842323e-01, -1.10430193e+00, -5.56823984e-02,\n",
       "         4.23748761e-01,  3.30824822e-01,  5.48365533e-01,\n",
       "        -1.20480132e+00, -1.09435809e+00,  1.84644908e-01,\n",
       "        -5.32563686e-01,  4.46215510e-01, -4.79138732e-01,\n",
       "         3.25085521e-01, -6.38089359e-01,  7.13557720e-01,\n",
       "         1.46091580e+00,  1.29108644e+00,  5.76570153e-01,\n",
       "        -8.59982371e-02, -1.47435740e-01,  2.33615085e-01,\n",
       "        -2.76128709e-01, -1.80741215e+00,  6.11107588e-01,\n",
       "         6.36937439e-01, -8.15448046e-01,  1.75843918e+00,\n",
       "        -8.92464742e-02,  2.50427055e+00, -1.07032442e+00,\n",
       "        -7.73254335e-01,  1.09360265e-02,  1.57039177e+00,\n",
       "        -8.53938758e-01, -6.26120329e-01,  1.70664955e-03,\n",
       "         2.15165988e-01,  2.07256109e-01,  1.06504679e-01,\n",
       "        -6.79606974e-01, -8.89133096e-01, -2.13772607e+00,\n",
       "         8.48847270e-01,  1.18131912e+00, -8.15714240e-01,\n",
       "        -6.98234320e-01, -2.77499527e-01, -1.10639334e+00,\n",
       "        -1.10488856e+00,  2.43548417e+00, -6.33015990e-01,\n",
       "         9.02395666e-01,  1.07319736e+00, -3.74929518e-01,\n",
       "         1.80584157e+00, -1.19902182e+00,  8.98155451e-01,\n",
       "        -7.87561595e-01,  1.32533446e-01,  4.45769578e-01,\n",
       "         1.84427583e+00, -1.27326488e+00, -1.66598725e+00,\n",
       "         4.50798959e-01, -1.46712577e+00, -5.40381789e-01,\n",
       "         8.13463211e-01,  9.18557942e-01, -9.61152315e-01,\n",
       "        -8.25653002e-02,  2.07603171e-01,  1.60130036e+00,\n",
       "         1.29490983e+00, -9.08203840e-01,  1.04184461e+00,\n",
       "         1.47939658e+00, -1.28311932e+00,  1.80693495e+00,\n",
       "         1.44927406e+00,  1.17870712e+00, -7.88409889e-01,\n",
       "         3.69476408e-01, -5.00375092e-01, -1.74024235e-02,\n",
       "        -5.66481203e-02,  6.92683578e-01,  5.60899913e-01,\n",
       "         9.24115658e-01, -1.78716850e+00,  1.21397138e+00,\n",
       "         1.99009943e+00, -3.25602055e-01,  7.12796092e-01,\n",
       "        -7.97257841e-01,  2.11470962e+00,  8.85084122e-02,\n",
       "        -8.15751493e-01, -3.17907631e-01, -5.43486655e-01,\n",
       "         9.45163965e-01, -1.97900236e-01,  6.86623871e-01,\n",
       "         7.00302601e-01, -9.25467730e-01, -1.57486999e+00,\n",
       "         7.27860332e-01, -9.31260407e-01,  2.41119608e-01,\n",
       "        -2.03389096e+00, -6.76755488e-01, -1.34162593e+00,\n",
       "        -1.89598486e-01,  1.26267886e+00, -1.48868427e-01,\n",
       "        -1.40234923e+00,  3.17692429e-01, -2.25765780e-02,\n",
       "        -4.96261209e-01, -4.87921566e-01, -2.28312567e-01,\n",
       "        -5.88105321e-01,  7.04418868e-02, -3.28026026e-01,\n",
       "        -1.33942679e-01,  3.18355531e-01, -5.19664466e-01,\n",
       "        -8.15459371e-01,  9.29296672e-01,  3.31211179e-01,\n",
       "         2.53332734e+00,  2.79350638e-01, -3.46345194e-02,\n",
       "        -1.24715328e+00, -1.22389781e+00, -4.01012868e-01,\n",
       "         7.99189568e-01, -5.40702879e-01,  1.43166816e+00,\n",
       "         3.31703424e-01, -1.29743409e+00, -8.92398417e-01,\n",
       "         9.80927289e-01,  2.65492409e-01, -7.49693751e-01,\n",
       "         9.47274625e-01, -1.35395586e+00,  8.29719961e-01,\n",
       "        -2.51441073e+00,  2.31456324e-01,  5.59642792e-01,\n",
       "         2.04270199e-01,  1.99729186e-02,  6.68552637e-01,\n",
       "         3.04281533e-01,  4.22045678e-01,  1.59521484e+00,\n",
       "        -1.29531419e+00,  9.35491145e-01, -1.88200727e-01,\n",
       "         4.72640902e-01,  7.46471405e-01,  4.10634816e-01,\n",
       "        -1.11970294e+00, -9.10571098e-01,  3.30319852e-01,\n",
       "         1.02581429e+00, -5.37182033e-01,  1.40565395e-01,\n",
       "         1.09115303e+00,  2.14528799e-01, -1.14211178e+00,\n",
       "         4.27378833e-01, -5.09085655e-01,  6.22456253e-01,\n",
       "        -7.62374222e-01, -1.51207104e-01,  1.73012590e+00,\n",
       "        -8.85188878e-01,  3.33816499e-01,  1.30636409e-01,\n",
       "        -1.26384771e+00, -5.40450662e-02, -5.24447918e-01,\n",
       "         5.09382598e-02, -1.12090015e+00, -5.64133048e-01,\n",
       "         9.28009748e-02,  1.22018635e-01, -8.35823357e-01,\n",
       "        -1.62073016e+00, -4.38512474e-01,  6.22004569e-01,\n",
       "        -1.25351441e+00, -3.37446761e+00, -5.15212417e-01,\n",
       "        -8.66701603e-01,  2.08876204e+00, -7.85518587e-01,\n",
       "        -1.51943401e-01,  9.12397742e-01, -8.13172221e-01,\n",
       "         1.14619732e-01, -3.02887652e-02, -1.33032501e+00,\n",
       "        -1.07762322e-01,  2.13011473e-01,  2.39154935e-01,\n",
       "        -7.08805978e-01, -1.17391014e+00,  7.92461991e-01,\n",
       "        -7.50502646e-01,  1.27632189e+00, -7.58830249e-01,\n",
       "        -2.87599683e-01, -2.73382872e-01, -8.39980662e-01,\n",
       "         1.32143319e-01,  1.17441297e+00,  6.00363910e-01,\n",
       "        -6.09402299e-01,  5.27858317e-01,  1.91913950e+00,\n",
       "         2.46440589e-01, -1.30369723e+00,  3.16716105e-01,\n",
       "        -7.86459565e-01,  9.30402100e-01,  1.56624663e+00,\n",
       "        -4.67395425e-01, -6.40834272e-01,  2.41942462e-02,\n",
       "         4.40893352e-01, -1.01013876e-01,  8.66560638e-02,\n",
       "        -6.11251652e-01, -1.06117904e+00,  3.41960579e-01,\n",
       "        -7.96697736e-01, -1.10318875e+00, -7.05082342e-02,\n",
       "        -1.44061959e+00, -1.69926241e-01,  1.96697727e-01,\n",
       "         5.33441424e-01, -4.17800575e-01, -9.04401660e-01,\n",
       "        -6.02185950e-02,  4.84866709e-01, -4.04578179e-01,\n",
       "         2.16719165e-01,  1.74732774e-01,  7.93760300e-01,\n",
       "        -1.13051331e+00,  1.76033750e-01,  1.33193541e+00,\n",
       "        -2.68680394e-01, -5.84865749e-01,  1.63044500e+00,\n",
       "        -2.32122689e-01, -9.74861443e-01,  4.61346477e-01], dtype=float32)"
      ]
     },
     "execution_count": 24,
     "metadata": {},
     "output_type": "execute_result"
    }
   ],
   "source": [
    "model.wv['word']"
   ]
  },
  {
   "cell_type": "code",
   "execution_count": 17,
   "id": "586e7f4c",
   "metadata": {},
   "outputs": [],
   "source": [
    "def get_text_vector(text):\n",
    "\n",
    "    vector = np.zeros(300)\n",
    "    count = 0\n",
    "    for token in text:\n",
    "        try:\n",
    "            vector += model.wv[token]\n",
    "            count += 1\n",
    "        except KeyError:\n",
    "            continue\n",
    "    if count != 0:\n",
    "        vector /= count\n",
    "    return vector\n",
    "\n",
    "data['text_vector'] = data['tokens'].apply(get_text_vector)"
   ]
  },
  {
   "cell_type": "code",
   "execution_count": 18,
   "id": "16f2b62b",
   "metadata": {},
   "outputs": [],
   "source": [
    "\n",
    "Y=pd.get_dummies(data['class'])\n",
    "Y=Y.iloc[:,1].values"
   ]
  },
  {
   "cell_type": "code",
   "execution_count": 19,
   "id": "8fa27cd1",
   "metadata": {},
   "outputs": [],
   "source": [
    "from sklearn.model_selection import train_test_split\n",
    "X_train, X_test, Y_train, Y_test = train_test_split(data['text_vector'], Y, test_size=0.20)"
   ]
  },
  {
   "cell_type": "code",
   "execution_count": 20,
   "id": "8ab2c3d3",
   "metadata": {},
   "outputs": [],
   "source": [
    "from sklearn.linear_model import LogisticRegression\n",
    "classifier=LogisticRegression()"
   ]
  },
  {
   "cell_type": "code",
   "execution_count": 21,
   "id": "29216ef4",
   "metadata": {},
   "outputs": [
    {
     "data": {
      "text/html": [
       "<div>\n",
       "<style scoped>\n",
       "    .dataframe tbody tr th:only-of-type {\n",
       "        vertical-align: middle;\n",
       "    }\n",
       "\n",
       "    .dataframe tbody tr th {\n",
       "        vertical-align: top;\n",
       "    }\n",
       "\n",
       "    .dataframe thead th {\n",
       "        text-align: right;\n",
       "    }\n",
       "</style>\n",
       "<table border=\"1\" class=\"dataframe\">\n",
       "  <thead>\n",
       "    <tr style=\"text-align: right;\">\n",
       "      <th></th>\n",
       "      <th>Unnamed: 0</th>\n",
       "      <th>text</th>\n",
       "      <th>class</th>\n",
       "      <th>clean_msg</th>\n",
       "      <th>tokens</th>\n",
       "      <th>text_vector</th>\n",
       "    </tr>\n",
       "  </thead>\n",
       "  <tbody>\n",
       "    <tr>\n",
       "      <th>0</th>\n",
       "      <td>2</td>\n",
       "      <td>Ex Wife Threatening SuicideRecently I left my ...</td>\n",
       "      <td>suicide</td>\n",
       "      <td>sex wife threatening suicide recently left wif...</td>\n",
       "      <td>[sex, wife, threatening, suicide, recently, le...</td>\n",
       "      <td>[0.16771093741177567, -0.29634710037637324, -0...</td>\n",
       "    </tr>\n",
       "    <tr>\n",
       "      <th>1</th>\n",
       "      <td>3</td>\n",
       "      <td>Am I weird I don't get affected by compliments...</td>\n",
       "      <td>non-suicide</td>\n",
       "      <td>weird not get affected compliment coming someo...</td>\n",
       "      <td>[weird, not, get, affected, compliment, coming...</td>\n",
       "      <td>[-0.18064258620142937, -0.5852750481239387, 0....</td>\n",
       "    </tr>\n",
       "    <tr>\n",
       "      <th>2</th>\n",
       "      <td>4</td>\n",
       "      <td>Finally 2020 is almost over... So I can never ...</td>\n",
       "      <td>non-suicide</td>\n",
       "      <td>finally almost never hear bad year ever swear ...</td>\n",
       "      <td>[finally, almost, never, hear, bad, year, ever...</td>\n",
       "      <td>[0.13124921917915344, -0.6213956746188077, -0....</td>\n",
       "    </tr>\n",
       "    <tr>\n",
       "      <th>3</th>\n",
       "      <td>8</td>\n",
       "      <td>i need helpjust help me im crying so hard</td>\n",
       "      <td>suicide</td>\n",
       "      <td>need help help cry hard</td>\n",
       "      <td>[need, help, help, cry, hard]</td>\n",
       "      <td>[0.4702105462551117, 0.3660696353763342, -0.35...</td>\n",
       "    </tr>\n",
       "    <tr>\n",
       "      <th>4</th>\n",
       "      <td>9</td>\n",
       "      <td>I’m so lostHello, my name is Adam (16) and I’v...</td>\n",
       "      <td>suicide</td>\n",
       "      <td>lost hello name adam struggling year afraid pa...</td>\n",
       "      <td>[lost, hello, name, adam, struggling, year, af...</td>\n",
       "      <td>[0.21556757962467468, -0.2794201817817804, -0....</td>\n",
       "    </tr>\n",
       "  </tbody>\n",
       "</table>\n",
       "</div>"
      ],
      "text/plain": [
       "   Unnamed: 0                                               text        class  \\\n",
       "0           2  Ex Wife Threatening SuicideRecently I left my ...      suicide   \n",
       "1           3  Am I weird I don't get affected by compliments...  non-suicide   \n",
       "2           4  Finally 2020 is almost over... So I can never ...  non-suicide   \n",
       "3           8          i need helpjust help me im crying so hard      suicide   \n",
       "4           9  I’m so lostHello, my name is Adam (16) and I’v...      suicide   \n",
       "\n",
       "                                           clean_msg  \\\n",
       "0  sex wife threatening suicide recently left wif...   \n",
       "1  weird not get affected compliment coming someo...   \n",
       "2  finally almost never hear bad year ever swear ...   \n",
       "3                            need help help cry hard   \n",
       "4  lost hello name adam struggling year afraid pa...   \n",
       "\n",
       "                                              tokens  \\\n",
       "0  [sex, wife, threatening, suicide, recently, le...   \n",
       "1  [weird, not, get, affected, compliment, coming...   \n",
       "2  [finally, almost, never, hear, bad, year, ever...   \n",
       "3                      [need, help, help, cry, hard]   \n",
       "4  [lost, hello, name, adam, struggling, year, af...   \n",
       "\n",
       "                                         text_vector  \n",
       "0  [0.16771093741177567, -0.29634710037637324, -0...  \n",
       "1  [-0.18064258620142937, -0.5852750481239387, 0....  \n",
       "2  [0.13124921917915344, -0.6213956746188077, -0....  \n",
       "3  [0.4702105462551117, 0.3660696353763342, -0.35...  \n",
       "4  [0.21556757962467468, -0.2794201817817804, -0....  "
      ]
     },
     "execution_count": 21,
     "metadata": {},
     "output_type": "execute_result"
    }
   ],
   "source": [
    "data.head()"
   ]
  },
  {
   "cell_type": "code",
   "execution_count": 22,
   "id": "a95e8a0f",
   "metadata": {},
   "outputs": [
    {
     "name": "stderr",
     "output_type": "stream",
     "text": [
      "C:\\python310\\lib\\site-packages\\sklearn\\linear_model\\_logistic.py:458: ConvergenceWarning: lbfgs failed to converge (status=1):\n",
      "STOP: TOTAL NO. of ITERATIONS REACHED LIMIT.\n",
      "\n",
      "Increase the number of iterations (max_iter) or scale the data as shown in:\n",
      "    https://scikit-learn.org/stable/modules/preprocessing.html\n",
      "Please also refer to the documentation for alternative solver options:\n",
      "    https://scikit-learn.org/stable/modules/linear_model.html#logistic-regression\n",
      "  n_iter_i = _check_optimize_result(\n"
     ]
    },
    {
     "data": {
      "text/html": [
       "<style>#sk-container-id-1 {color: black;background-color: white;}#sk-container-id-1 pre{padding: 0;}#sk-container-id-1 div.sk-toggleable {background-color: white;}#sk-container-id-1 label.sk-toggleable__label {cursor: pointer;display: block;width: 100%;margin-bottom: 0;padding: 0.3em;box-sizing: border-box;text-align: center;}#sk-container-id-1 label.sk-toggleable__label-arrow:before {content: \"▸\";float: left;margin-right: 0.25em;color: #696969;}#sk-container-id-1 label.sk-toggleable__label-arrow:hover:before {color: black;}#sk-container-id-1 div.sk-estimator:hover label.sk-toggleable__label-arrow:before {color: black;}#sk-container-id-1 div.sk-toggleable__content {max-height: 0;max-width: 0;overflow: hidden;text-align: left;background-color: #f0f8ff;}#sk-container-id-1 div.sk-toggleable__content pre {margin: 0.2em;color: black;border-radius: 0.25em;background-color: #f0f8ff;}#sk-container-id-1 input.sk-toggleable__control:checked~div.sk-toggleable__content {max-height: 200px;max-width: 100%;overflow: auto;}#sk-container-id-1 input.sk-toggleable__control:checked~label.sk-toggleable__label-arrow:before {content: \"▾\";}#sk-container-id-1 div.sk-estimator input.sk-toggleable__control:checked~label.sk-toggleable__label {background-color: #d4ebff;}#sk-container-id-1 div.sk-label input.sk-toggleable__control:checked~label.sk-toggleable__label {background-color: #d4ebff;}#sk-container-id-1 input.sk-hidden--visually {border: 0;clip: rect(1px 1px 1px 1px);clip: rect(1px, 1px, 1px, 1px);height: 1px;margin: -1px;overflow: hidden;padding: 0;position: absolute;width: 1px;}#sk-container-id-1 div.sk-estimator {font-family: monospace;background-color: #f0f8ff;border: 1px dotted black;border-radius: 0.25em;box-sizing: border-box;margin-bottom: 0.5em;}#sk-container-id-1 div.sk-estimator:hover {background-color: #d4ebff;}#sk-container-id-1 div.sk-parallel-item::after {content: \"\";width: 100%;border-bottom: 1px solid gray;flex-grow: 1;}#sk-container-id-1 div.sk-label:hover label.sk-toggleable__label {background-color: #d4ebff;}#sk-container-id-1 div.sk-serial::before {content: \"\";position: absolute;border-left: 1px solid gray;box-sizing: border-box;top: 0;bottom: 0;left: 50%;z-index: 0;}#sk-container-id-1 div.sk-serial {display: flex;flex-direction: column;align-items: center;background-color: white;padding-right: 0.2em;padding-left: 0.2em;position: relative;}#sk-container-id-1 div.sk-item {position: relative;z-index: 1;}#sk-container-id-1 div.sk-parallel {display: flex;align-items: stretch;justify-content: center;background-color: white;position: relative;}#sk-container-id-1 div.sk-item::before, #sk-container-id-1 div.sk-parallel-item::before {content: \"\";position: absolute;border-left: 1px solid gray;box-sizing: border-box;top: 0;bottom: 0;left: 50%;z-index: -1;}#sk-container-id-1 div.sk-parallel-item {display: flex;flex-direction: column;z-index: 1;position: relative;background-color: white;}#sk-container-id-1 div.sk-parallel-item:first-child::after {align-self: flex-end;width: 50%;}#sk-container-id-1 div.sk-parallel-item:last-child::after {align-self: flex-start;width: 50%;}#sk-container-id-1 div.sk-parallel-item:only-child::after {width: 0;}#sk-container-id-1 div.sk-dashed-wrapped {border: 1px dashed gray;margin: 0 0.4em 0.5em 0.4em;box-sizing: border-box;padding-bottom: 0.4em;background-color: white;}#sk-container-id-1 div.sk-label label {font-family: monospace;font-weight: bold;display: inline-block;line-height: 1.2em;}#sk-container-id-1 div.sk-label-container {text-align: center;}#sk-container-id-1 div.sk-container {/* jupyter's `normalize.less` sets `[hidden] { display: none; }` but bootstrap.min.css set `[hidden] { display: none !important; }` so we also need the `!important` here to be able to override the default hidden behavior on the sphinx rendered scikit-learn.org. See: https://github.com/scikit-learn/scikit-learn/issues/21755 */display: inline-block !important;position: relative;}#sk-container-id-1 div.sk-text-repr-fallback {display: none;}</style><div id=\"sk-container-id-1\" class=\"sk-top-container\"><div class=\"sk-text-repr-fallback\"><pre>LogisticRegression()</pre><b>In a Jupyter environment, please rerun this cell to show the HTML representation or trust the notebook. <br />On GitHub, the HTML representation is unable to render, please try loading this page with nbviewer.org.</b></div><div class=\"sk-container\" hidden><div class=\"sk-item\"><div class=\"sk-estimator sk-toggleable\"><input class=\"sk-toggleable__control sk-hidden--visually\" id=\"sk-estimator-id-1\" type=\"checkbox\" checked><label for=\"sk-estimator-id-1\" class=\"sk-toggleable__label sk-toggleable__label-arrow\">LogisticRegression</label><div class=\"sk-toggleable__content\"><pre>LogisticRegression()</pre></div></div></div></div></div>"
      ],
      "text/plain": [
       "LogisticRegression()"
      ]
     },
     "execution_count": 22,
     "metadata": {},
     "output_type": "execute_result"
    }
   ],
   "source": [
    "classifier.fit(list(X_train),Y_train)"
   ]
  },
  {
   "cell_type": "code",
   "execution_count": 23,
   "id": "49490066",
   "metadata": {},
   "outputs": [
    {
     "name": "stdout",
     "output_type": "stream",
     "text": [
      "0.9135935513071965\n"
     ]
    }
   ],
   "source": [
    "from sklearn.metrics import accuracy_score\n",
    "Y_pred=classifier.predict(list(X_test))\n",
    "accuracy=accuracy_score(Y_test,Y_pred)\n",
    "print(accuracy)"
   ]
  },
  {
   "cell_type": "code",
   "execution_count": 25,
   "id": "0e46e9a7",
   "metadata": {},
   "outputs": [],
   "source": []
  }
 ],
 "metadata": {
  "kernelspec": {
   "display_name": "Python 3 (ipykernel)",
   "language": "python",
   "name": "python3"
  },
  "language_info": {
   "codemirror_mode": {
    "name": "ipython",
    "version": 3
   },
   "file_extension": ".py",
   "mimetype": "text/x-python",
   "name": "python",
   "nbconvert_exporter": "python",
   "pygments_lexer": "ipython3",
   "version": "3.10.9"
  }
 },
 "nbformat": 4,
 "nbformat_minor": 5
}
