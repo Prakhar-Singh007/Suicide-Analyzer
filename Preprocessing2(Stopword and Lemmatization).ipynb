{
 "cells": [
  {
   "cell_type": "code",
   "execution_count": 1,
   "id": "bc179d88",
   "metadata": {},
   "outputs": [],
   "source": [
    "import pandas as pd\n",
    "import numpy as np"
   ]
  },
  {
   "cell_type": "code",
   "execution_count": 2,
   "id": "11ed21c6",
   "metadata": {},
   "outputs": [],
   "source": [
    "data=pd.read_csv('Suicide_Detection.csv', encoding = \"utf-8\")"
   ]
  },
  {
   "cell_type": "code",
   "execution_count": 3,
   "id": "a6245fc8",
   "metadata": {},
   "outputs": [
    {
     "data": {
      "text/html": [
       "<div>\n",
       "<style scoped>\n",
       "    .dataframe tbody tr th:only-of-type {\n",
       "        vertical-align: middle;\n",
       "    }\n",
       "\n",
       "    .dataframe tbody tr th {\n",
       "        vertical-align: top;\n",
       "    }\n",
       "\n",
       "    .dataframe thead th {\n",
       "        text-align: right;\n",
       "    }\n",
       "</style>\n",
       "<table border=\"1\" class=\"dataframe\">\n",
       "  <thead>\n",
       "    <tr style=\"text-align: right;\">\n",
       "      <th></th>\n",
       "      <th>Unnamed: 0</th>\n",
       "      <th>text</th>\n",
       "      <th>class</th>\n",
       "      <th>clean_msg</th>\n",
       "    </tr>\n",
       "  </thead>\n",
       "  <tbody>\n",
       "    <tr>\n",
       "      <th>0</th>\n",
       "      <td>2</td>\n",
       "      <td>Ex Wife Threatening SuicideRecently I left my ...</td>\n",
       "      <td>suicide</td>\n",
       "      <td>sex wife threatening suicide recently i left m...</td>\n",
       "    </tr>\n",
       "    <tr>\n",
       "      <th>1</th>\n",
       "      <td>3</td>\n",
       "      <td>Am I weird I don't get affected by compliments...</td>\n",
       "      <td>non-suicide</td>\n",
       "      <td>am i weird i do not get affected by compliment...</td>\n",
       "    </tr>\n",
       "  </tbody>\n",
       "</table>\n",
       "</div>"
      ],
      "text/plain": [
       "   Unnamed: 0                                               text        class  \\\n",
       "0           2  Ex Wife Threatening SuicideRecently I left my ...      suicide   \n",
       "1           3  Am I weird I don't get affected by compliments...  non-suicide   \n",
       "\n",
       "                                           clean_msg  \n",
       "0  sex wife threatening suicide recently i left m...  \n",
       "1  am i weird i do not get affected by compliment...  "
      ]
     },
     "execution_count": 3,
     "metadata": {},
     "output_type": "execute_result"
    }
   ],
   "source": [
    "data.head(2)"
   ]
  },
  {
   "cell_type": "code",
   "execution_count": 31,
   "id": "5f0aea4c",
   "metadata": {},
   "outputs": [],
   "source": [
    "import nltk\n",
    "from nltk.corpus import stopwords\n",
    "from nltk.tokenize import word_tokenize as word_tokenize"
   ]
  },
  {
   "cell_type": "code",
   "execution_count": 36,
   "id": "e41a1df3",
   "metadata": {},
   "outputs": [],
   "source": [
    "data['clean_msg'].dropna(inplace=True)\n",
    "data['clean_msg'] = data['clean_msg'].astype(str)"
   ]
  },
  {
   "cell_type": "code",
   "execution_count": 38,
   "id": "04839f9a",
   "metadata": {
    "scrolled": false
   },
   "outputs": [],
   "source": [
    "stop_words = set(stopwords.words('english'))\n",
    "stop_words.discard('no')\n",
    "stop_words.discard('not')\n",
    "\n",
    "# function to remove stop words except 'no' and 'not'\n",
    "def remove_stopwords(text):\n",
    "    words = nltk.word_tokenize(text)\n",
    "    filtered_words = [word for word in words if word not in stop_words]\n",
    "    return ' '.join(filtered_words)\n",
    "\n",
    "# apply function to dataframe\n",
    "data['clean_msg']=data['clean_msg'].apply(lambda x:remove_stopwords(x))"
   ]
  },
  {
   "cell_type": "code",
   "execution_count": 39,
   "id": "5be0e314",
   "metadata": {},
   "outputs": [
    {
     "data": {
      "text/plain": [
       "'trapped inside avoider whoever cares enough read though doubt fall criteria trapped inside void absolutely nothing go monotonous tasks everyday life nothing look forward no aspirations whatsoever saving grace felt like thing made feel like wanted accepted karen absolutely idiotic sounds assured talking one thing looked forward every day one thing kept going knowing time throughout day would able talk even briefly went sleep made feel accepted made feel like kind worth made feel like could actually like okay made feel loved never ever able open someone completely felt completely ease talking told things no one else world knows made feel like actually cared cared shared many intimate moments would never dare anyone else talked getting together devising crazy scenarios together talked time nothing could keep us apart except helped problems facing related depression breakup starr talked whenever needed always made feel better shining star pitch black sky none longer though slowly drifted apart began realise exactly sure regrets getting involved not blame nothing hurt days none intentional happens nonetheless first started talking told clingy tendencies said okay suppose thought exaggerating not need interaction life know not fair people around know not want not alone thoughts time thoughts extremely self destructive need someone spend time someone talk get away thoughts four months legitimately happy probably time life ever actually legitimately happy finally starr thanks help karen no stress things actually looking even migraines becoming far love felt loved could go back time replay four months would without hesitation best time life not people ridiculing various reasons beyond control not feel like hold feelings inside could share karen incredibly receptive not lie leave details karen made feel like good person told past seemed genuinely concerned tried hard dispel hateful things told told attractive something never told not even starr together ten years happy time prior never willingly taken picture would send snap chat pictures made feel like not hideous person thought hindsight sure nice not actually think attractive still nice hear though miss days long return know never happen thing happened many people though none extreme fine first start talking eventually realise high maintenance fucked causes drift away eventually stop talking altogether sometimes abruptly cut lives case starr night broke told loved morning told weeks later told never talk ten years together ended whim caused lose not significant also best friend thing happening karen driving away eventually not best friend completely alone last time completely alone right starr broke not leave room two weeks not eat single thing two weeks laid bed staring ceiling darkness constantly tears trying realise gone wrong never cried much life hid emotions outside view life moment could not contain longer absolutely nothing left world feel right complete luck actually able reconnect karen no idea make friends happened online facebook feeling absolute lowest sent message no expectations whatsoever prepared either completely ignored told go away not happen though wonderful conversation reminiscing childhood not remember subject got changed talking starr told everything seemed like genuinely cared stayed morning talking facebook tears conversation partly still upset breakup also could not believe someone actually cared especially someone not talked decade started get close revealed feelings one another joked us reconnecting red string fate not believe fate also not think dumb luck caused us reconnect moment felt like nothing left problem lies fact never able replicate anyone else incredibly socially awkward not make new friends person completely freeze get overwhelmed anxiety online nothing say boring person tried make new friends various sub edits err ski pals like talked people seemed nice none developed actual friendship stopped talking one session not anything give friendship fighting karen told not keep badgering hang asked going able talk done watching game thrones new boyfriend sex self worth absolutely rock bottom made realise problem fault relationships always dissolve joined blaming starr dissolution relationship see never fault completely unlovable never one true friend believe stems fact growing friends tried expand make new friends got burned badly every time latch one friend suffocate bother not stand leave tried hard give space not ask hang talk whenever try get extremely depressed spent past two weeks extreme depression hoping weekend would able hang would alleviate cancelled plans favour hanging someone else every time ask something says no get sinking feeling mainly four months happy everything together time asked wanted something happy hang happy talk nearly every moment awake suppose sustainable long someone would get bored little offer mainly driving everything must exhausting getting tired writing though recognize faults flaws no knowledge motivation fix lived entire life not single person stayed around writing zero friends completely alone no one world would even notice fell face earth faded oblivion goodbye steven'"
      ]
     },
     "metadata": {},
     "output_type": "display_data"
    }
   ],
   "source": [
    "display(data.iloc[22]['clean_msg'])"
   ]
  },
  {
   "cell_type": "code",
   "execution_count": 40,
   "id": "89f067d9",
   "metadata": {},
   "outputs": [
    {
     "name": "stderr",
     "output_type": "stream",
     "text": [
      "[nltk_data] Downloading package wordnet to\n",
      "[nltk_data]     C:\\Users\\prakh\\AppData\\Roaming\\nltk_data...\n"
     ]
    },
    {
     "data": {
      "text/plain": [
       "True"
      ]
     },
     "execution_count": 40,
     "metadata": {},
     "output_type": "execute_result"
    }
   ],
   "source": [
    "nltk.download('wordnet')"
   ]
  },
  {
   "cell_type": "code",
   "execution_count": 41,
   "id": "04dfad21",
   "metadata": {},
   "outputs": [],
   "source": [
    "from nltk.stem import WordNetLemmatizer\n",
    "\n",
    "# assume 'df' is your dataframe and 'text_column' is the name of the column you want to lemmatize\n",
    "lemmatizer = WordNetLemmatizer()\n",
    "\n",
    "def lemmatize_text(text):\n",
    "    words = text.split()\n",
    "    # Lemmatize each word\n",
    "    words = [lemmatizer.lemmatize(word) for word in words]\n",
    "    # Join the words back into a single string\n",
    "    lemmatized_text = ' '.join(words)\n",
    "    return lemmatized_text\n",
    "\n",
    "data['clean_msg'] = data['clean_msg'].apply(lemmatize_text)"
   ]
  },
  {
   "cell_type": "code",
   "execution_count": 42,
   "id": "1cd9a3b8",
   "metadata": {},
   "outputs": [
    {
     "data": {
      "text/plain": [
       "'trapped inside avoider whoever care enough read though doubt fall criterion trapped inside void absolutely nothing go monotonous task everyday life nothing look forward no aspiration whatsoever saving grace felt like thing made feel like wanted accepted karen absolutely idiotic sound assured talking one thing looked forward every day one thing kept going knowing time throughout day would able talk even briefly went sleep made feel accepted made feel like kind worth made feel like could actually like okay made feel loved never ever able open someone completely felt completely ease talking told thing no one else world know made feel like actually cared cared shared many intimate moment would never dare anyone else talked getting together devising crazy scenario together talked time nothing could keep u apart except helped problem facing related depression breakup starr talked whenever needed always made feel better shining star pitch black sky none longer though slowly drifted apart began realise exactly sure regret getting involved not blame nothing hurt day none intentional happens nonetheless first started talking told clingy tendency said okay suppose thought exaggerating not need interaction life know not fair people around know not want not alone thought time thought extremely self destructive need someone spend time someone talk get away thought four month legitimately happy probably time life ever actually legitimately happy finally starr thanks help karen no stress thing actually looking even migraine becoming far love felt loved could go back time replay four month would without hesitation best time life not people ridiculing various reason beyond control not feel like hold feeling inside could share karen incredibly receptive not lie leave detail karen made feel like good person told past seemed genuinely concerned tried hard dispel hateful thing told told attractive something never told not even starr together ten year happy time prior never willingly taken picture would send snap chat picture made feel like not hideous person thought hindsight sure nice not actually think attractive still nice hear though miss day long return know never happen thing happened many people though none extreme fine first start talking eventually realise high maintenance fucked cause drift away eventually stop talking altogether sometimes abruptly cut life case starr night broke told loved morning told week later told never talk ten year together ended whim caused lose not significant also best friend thing happening karen driving away eventually not best friend completely alone last time completely alone right starr broke not leave room two week not eat single thing two week laid bed staring ceiling darkness constantly tear trying realise gone wrong never cried much life hid emotion outside view life moment could not contain longer absolutely nothing left world feel right complete luck actually able reconnect karen no idea make friend happened online facebook feeling absolute lowest sent message no expectation whatsoever prepared either completely ignored told go away not happen though wonderful conversation reminiscing childhood not remember subject got changed talking starr told everything seemed like genuinely cared stayed morning talking facebook tear conversation partly still upset breakup also could not believe someone actually cared especially someone not talked decade started get close revealed feeling one another joked u reconnecting red string fate not believe fate also not think dumb luck caused u reconnect moment felt like nothing left problem lie fact never able replicate anyone else incredibly socially awkward not make new friend person completely freeze get overwhelmed anxiety online nothing say boring person tried make new friend various sub edits err ski pal like talked people seemed nice none developed actual friendship stopped talking one session not anything give friendship fighting karen told not keep badgering hang asked going able talk done watching game throne new boyfriend sex self worth absolutely rock bottom made realise problem fault relationship always dissolve joined blaming starr dissolution relationship see never fault completely unlovable never one true friend believe stem fact growing friend tried expand make new friend got burned badly every time latch one friend suffocate bother not stand leave tried hard give space not ask hang talk whenever try get extremely depressed spent past two week extreme depression hoping weekend would able hang would alleviate cancelled plan favour hanging someone else every time ask something say no get sinking feeling mainly four month happy everything together time asked wanted something happy hang happy talk nearly every moment awake suppose sustainable long someone would get bored little offer mainly driving everything must exhausting getting tired writing though recognize fault flaw no knowledge motivation fix lived entire life not single person stayed around writing zero friend completely alone no one world would even notice fell face earth faded oblivion goodbye steven'"
      ]
     },
     "metadata": {},
     "output_type": "display_data"
    }
   ],
   "source": [
    "display(data.iloc[22]['clean_msg'])"
   ]
  },
  {
   "cell_type": "code",
   "execution_count": 43,
   "id": "6696c340",
   "metadata": {},
   "outputs": [],
   "source": [
    "data.to_csv('Suicide_Detection.csv',index=False)"
   ]
  },
  {
   "cell_type": "code",
   "execution_count": 44,
   "id": "d2557296",
   "metadata": {},
   "outputs": [
    {
     "data": {
      "text/html": [
       "<div>\n",
       "<style scoped>\n",
       "    .dataframe tbody tr th:only-of-type {\n",
       "        vertical-align: middle;\n",
       "    }\n",
       "\n",
       "    .dataframe tbody tr th {\n",
       "        vertical-align: top;\n",
       "    }\n",
       "\n",
       "    .dataframe thead th {\n",
       "        text-align: right;\n",
       "    }\n",
       "</style>\n",
       "<table border=\"1\" class=\"dataframe\">\n",
       "  <thead>\n",
       "    <tr style=\"text-align: right;\">\n",
       "      <th></th>\n",
       "      <th>Unnamed: 0</th>\n",
       "      <th>text</th>\n",
       "      <th>class</th>\n",
       "      <th>clean_msg</th>\n",
       "    </tr>\n",
       "  </thead>\n",
       "  <tbody>\n",
       "    <tr>\n",
       "      <th>0</th>\n",
       "      <td>2</td>\n",
       "      <td>Ex Wife Threatening SuicideRecently I left my ...</td>\n",
       "      <td>suicide</td>\n",
       "      <td>sex wife threatening suicide recently left wif...</td>\n",
       "    </tr>\n",
       "    <tr>\n",
       "      <th>1</th>\n",
       "      <td>3</td>\n",
       "      <td>Am I weird I don't get affected by compliments...</td>\n",
       "      <td>non-suicide</td>\n",
       "      <td>weird not get affected compliment coming someo...</td>\n",
       "    </tr>\n",
       "    <tr>\n",
       "      <th>2</th>\n",
       "      <td>4</td>\n",
       "      <td>Finally 2020 is almost over... So I can never ...</td>\n",
       "      <td>non-suicide</td>\n",
       "      <td>finally almost never hear bad year ever swear ...</td>\n",
       "    </tr>\n",
       "    <tr>\n",
       "      <th>3</th>\n",
       "      <td>8</td>\n",
       "      <td>i need helpjust help me im crying so hard</td>\n",
       "      <td>suicide</td>\n",
       "      <td>need help help cry hard</td>\n",
       "    </tr>\n",
       "    <tr>\n",
       "      <th>4</th>\n",
       "      <td>9</td>\n",
       "      <td>I’m so lostHello, my name is Adam (16) and I’v...</td>\n",
       "      <td>suicide</td>\n",
       "      <td>lost hello name adam struggling year afraid pa...</td>\n",
       "    </tr>\n",
       "  </tbody>\n",
       "</table>\n",
       "</div>"
      ],
      "text/plain": [
       "   Unnamed: 0                                               text        class  \\\n",
       "0           2  Ex Wife Threatening SuicideRecently I left my ...      suicide   \n",
       "1           3  Am I weird I don't get affected by compliments...  non-suicide   \n",
       "2           4  Finally 2020 is almost over... So I can never ...  non-suicide   \n",
       "3           8          i need helpjust help me im crying so hard      suicide   \n",
       "4           9  I’m so lostHello, my name is Adam (16) and I’v...      suicide   \n",
       "\n",
       "                                           clean_msg  \n",
       "0  sex wife threatening suicide recently left wif...  \n",
       "1  weird not get affected compliment coming someo...  \n",
       "2  finally almost never hear bad year ever swear ...  \n",
       "3                            need help help cry hard  \n",
       "4  lost hello name adam struggling year afraid pa...  "
      ]
     },
     "execution_count": 44,
     "metadata": {},
     "output_type": "execute_result"
    }
   ],
   "source": [
    "data.head()"
   ]
  },
  {
   "cell_type": "code",
   "execution_count": null,
   "id": "fcf2fcb6",
   "metadata": {},
   "outputs": [],
   "source": []
  }
 ],
 "metadata": {
  "kernelspec": {
   "display_name": "Python 3 (ipykernel)",
   "language": "python",
   "name": "python3"
  },
  "language_info": {
   "codemirror_mode": {
    "name": "ipython",
    "version": 3
   },
   "file_extension": ".py",
   "mimetype": "text/x-python",
   "name": "python",
   "nbconvert_exporter": "python",
   "pygments_lexer": "ipython3",
   "version": "3.10.5"
  }
 },
 "nbformat": 4,
 "nbformat_minor": 5
}
