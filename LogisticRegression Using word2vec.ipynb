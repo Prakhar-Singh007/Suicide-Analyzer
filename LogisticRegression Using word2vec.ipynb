{
 "cells": [
  {
   "cell_type": "code",
   "execution_count": 1,
   "id": "963171cc",
   "metadata": {},
   "outputs": [],
   "source": [
    "import numpy as np\n",
    "import pandas as pd\n",
    "data=pd.read_csv('suicide_detection_final_cleaned.csv',encoding='utf-8')"
   ]
  },
  {
   "cell_type": "code",
   "execution_count": 2,
   "id": "eb21f830",
   "metadata": {},
   "outputs": [],
   "source": [
    "from gensim.models import Word2Vec\n",
    "import nltk"
   ]
  },
  {
   "cell_type": "code",
   "execution_count": 3,
   "id": "8887fc39",
   "metadata": {},
   "outputs": [],
   "source": [
    "data['tokens'] = data['clean_msg'].apply(lambda x:nltk.word_tokenize(x))"
   ]
  },
  {
   "cell_type": "code",
   "execution_count": 4,
   "id": "de7ca00b",
   "metadata": {},
   "outputs": [],
   "source": [
    "model = Word2Vec(data['tokens'], vector_size=300, min_count=1)"
   ]
  },
  {
   "cell_type": "code",
   "execution_count": 5,
   "id": "34a4990f",
   "metadata": {},
   "outputs": [],
   "source": [
    " "
   ]
  },
  {
   "cell_type": "code",
   "execution_count": 6,
   "id": "0aca1045",
   "metadata": {},
   "outputs": [],
   "source": [
    "from gensim.models import KeyedVectors"
   ]
  },
  {
   "cell_type": "code",
   "execution_count": 7,
   "id": "77af6ee1",
   "metadata": {},
   "outputs": [],
   "source": [
    "model = KeyedVectors.load(\"word2vec.model\", mmap='r')"
   ]
  },
  {
   "cell_type": "code",
   "execution_count": 8,
   "id": "2b7d6f6f",
   "metadata": {
    "scrolled": true
   },
   "outputs": [
    {
     "data": {
      "text/plain": [
       "memmap([-1.78340748e-01, -8.40353146e-02, -1.13347840e+00,\n",
       "         6.87516093e-01, -9.03217852e-01, -7.13156819e-01,\n",
       "         8.86511981e-01,  7.82224298e-01,  8.45404923e-01,\n",
       "        -8.45881701e-01, -1.93845376e-01,  7.56079674e-01,\n",
       "         1.70480981e-01, -3.58760566e-01,  4.32954937e-01,\n",
       "        -5.92574656e-01,  2.40650792e-02, -2.50335753e-01,\n",
       "        -8.88656199e-01,  6.95533156e-02, -1.76002294e-01,\n",
       "        -5.59156001e-01, -7.21532226e-01, -1.06327355e+00,\n",
       "         3.13189298e-01, -8.66549239e-02, -1.75516343e+00,\n",
       "         2.22978488e-01,  3.41356248e-02,  7.54851460e-01,\n",
       "         1.22209299e+00, -5.71709335e-01,  5.41363597e-01,\n",
       "        -1.12054631e-01, -5.12730360e-01,  4.69795257e-01,\n",
       "        -5.25270283e-01, -1.25822932e-01, -7.54275993e-02,\n",
       "         2.29490861e-01,  1.72335044e-01,  7.68443167e-01,\n",
       "         1.22606969e+00,  1.55881178e+00,  6.65442169e-01,\n",
       "         1.08348854e-01,  3.91759366e-01,  2.09980309e-01,\n",
       "        -2.75885284e-01,  1.69805741e+00,  7.91265309e-01,\n",
       "         7.96435535e-01,  5.04388571e-01, -4.62250590e-01,\n",
       "        -7.99055211e-03, -6.85587153e-02,  3.48363459e-01,\n",
       "         1.79940546e+00, -1.96725037e-02,  4.39243138e-01,\n",
       "        -3.31301063e-01,  4.17212367e-01,  3.99697989e-01,\n",
       "        -5.12400687e-01, -1.91809034e+00,  1.03365624e+00,\n",
       "        -2.15250496e-02, -9.34860706e-01, -1.02290362e-01,\n",
       "        -1.16429055e+00, -4.54920202e-01,  1.30408347e+00,\n",
       "         6.92911386e-01,  3.56446654e-01, -9.24910605e-02,\n",
       "        -1.58442259e+00, -1.43608034e-01,  2.25482896e-01,\n",
       "         5.75026333e-01,  2.01982960e-01, -1.77452594e-01,\n",
       "        -4.59380627e-01,  7.86227465e-01,  6.61474347e-01,\n",
       "         1.31948364e+00, -1.09484434e+00, -5.93784153e-01,\n",
       "        -3.08908641e-01,  2.10316405e-01,  4.16619122e-01,\n",
       "        -6.94712549e-02, -5.94678581e-01,  2.43727282e-01,\n",
       "         2.20016792e-01,  6.02201045e-01,  4.41927433e-01,\n",
       "         2.13206351e-01,  1.61245072e+00, -6.09662710e-03,\n",
       "        -1.29871607e-01,  1.50713518e-01, -3.33164632e-01,\n",
       "         8.56176078e-01,  6.55286908e-01, -5.80762684e-01,\n",
       "        -3.65487278e-01, -1.83920398e-01, -7.88421750e-01,\n",
       "        -2.81078875e-01,  9.49924409e-01, -4.88884658e-01,\n",
       "        -8.34275484e-01,  3.55775595e-01, -2.81540751e-01,\n",
       "         6.96547970e-04,  5.40511981e-02,  1.51811326e+00,\n",
       "        -2.44828224e-01,  2.40834858e-02,  2.83786714e-01,\n",
       "         6.83594406e-01, -8.75629425e-01,  6.91672981e-01,\n",
       "        -3.08246046e-01,  1.01211178e+00, -4.89571273e-01,\n",
       "         6.34179711e-01,  3.02996248e-01, -4.68842626e-01,\n",
       "         9.22779087e-03, -3.84604990e-01, -4.53321755e-01,\n",
       "        -2.74250031e-01, -4.65234756e-01, -6.65232480e-01,\n",
       "        -3.92118663e-01, -1.75340742e-01, -2.90913731e-01,\n",
       "        -1.83741450e+00, -7.77464435e-02, -7.29068518e-01,\n",
       "         5.86820245e-01, -3.86253983e-01, -1.63379133e-01,\n",
       "        -1.80959895e-01,  1.32244885e-01,  4.36820626e-01,\n",
       "         4.43937808e-01, -1.12326443e+00, -7.16969222e-02,\n",
       "         1.10107042e-01,  1.17552117e-01, -7.91121542e-01,\n",
       "        -4.47948933e-01,  2.49581859e-01, -1.34631181e+00,\n",
       "         3.52520436e-01,  1.40953571e-01, -4.69910413e-01,\n",
       "         2.63383001e-01, -5.94978869e-01, -6.98564410e-01,\n",
       "        -5.51633000e-01,  8.87560427e-01, -2.12980077e-01,\n",
       "        -6.88579679e-01, -6.38334751e-01, -5.08505940e-01,\n",
       "         6.47726417e-01, -1.33228540e+00, -2.21747965e-01,\n",
       "         5.52151680e-01,  8.27353954e-01,  1.48425132e-01,\n",
       "         6.61897242e-01, -3.92450318e-02, -9.32927966e-01,\n",
       "         5.87348640e-02, -1.03777122e+00,  8.17328811e-01,\n",
       "        -2.38874465e-01,  2.49844700e-01,  6.43281460e-01,\n",
       "         3.47193897e-01, -5.52579522e-01, -9.37232733e-01,\n",
       "         1.07992768e-01,  4.84522641e-01, -8.77082407e-01,\n",
       "         1.48605466e+00, -2.31121972e-01, -1.47590303e+00,\n",
       "        -2.18659729e-01,  5.87149143e-01,  1.26771629e+00,\n",
       "         8.77537489e-01,  1.62226483e-01, -5.55866063e-01,\n",
       "         6.85622156e-01, -5.89506328e-01,  6.74472094e-01,\n",
       "        -5.44389307e-01,  4.99322712e-01, -2.03911792e-02,\n",
       "         1.47020423e+00,  7.61015773e-01, -6.70455277e-01,\n",
       "         1.01771915e+00,  1.21489036e+00, -5.46705306e-01,\n",
       "        -9.01277542e-01,  3.25695902e-01, -8.52661908e-01,\n",
       "        -1.64378762e-01, -2.58630246e-01, -1.36686042e-01,\n",
       "        -8.66383612e-01, -7.46761918e-01, -1.57665685e-01,\n",
       "        -6.77494109e-02,  7.81157911e-01,  5.65699399e-01,\n",
       "        -1.84203416e-01,  1.08779013e-01,  1.06105328e-01,\n",
       "        -1.04594910e+00, -2.45487630e-01,  2.57863969e-01,\n",
       "         3.90726745e-01, -2.25384161e-01, -1.27425462e-01,\n",
       "         1.20212817e+00,  3.08404267e-01,  1.09059894e+00,\n",
       "        -9.66668248e-01, -3.11513007e-01,  2.66261697e-02,\n",
       "        -5.20408988e-01, -1.54096901e-01, -6.36264160e-02,\n",
       "         4.79974449e-01, -4.14844453e-01,  4.94208753e-01,\n",
       "         8.80239964e-01, -1.81653246e-01, -7.59770691e-01,\n",
       "        -4.43935186e-01,  5.54465950e-01,  5.27936459e-01,\n",
       "        -6.10303521e-01,  7.69532174e-02,  8.74029160e-01,\n",
       "         4.01317239e-01, -7.68059671e-01, -1.03894758e+00,\n",
       "         1.10184155e-01,  8.25864911e-01, -4.54483002e-01,\n",
       "         5.37719369e-01, -8.55205178e-01,  4.57815021e-01,\n",
       "         1.49428189e+00, -6.47137582e-01, -5.21930575e-01,\n",
       "        -7.71080673e-01, -8.00223231e-01,  1.10837114e+00,\n",
       "        -8.04910883e-02, -4.35429178e-02,  3.53686847e-02,\n",
       "        -2.33276367e-01, -9.93065983e-02, -2.81477273e-01,\n",
       "         2.78442860e-01, -2.42845431e-01,  3.96736801e-01,\n",
       "         4.50343311e-01, -5.72043434e-02, -1.08411431e+00,\n",
       "        -6.54563963e-01, -9.39229786e-01,  2.13054627e-01,\n",
       "        -2.01611325e-01,  1.10252035e+00,  6.87470913e-01,\n",
       "         7.98566520e-01,  5.31793535e-01,  2.40363941e-01,\n",
       "         2.03102455e-01,  2.32540667e-01,  2.76713908e-01,\n",
       "         2.90166229e-01, -3.40898097e-01,  3.82200450e-01,\n",
       "        -5.36340415e-01,  1.20231616e+00,  5.58667243e-01,\n",
       "         3.15561861e-01, -3.08449596e-01,  1.30773529e-01], dtype=float32)"
      ]
     },
     "execution_count": 8,
     "metadata": {},
     "output_type": "execute_result"
    }
   ],
   "source": [
    "model.wv['word']"
   ]
  },
  {
   "cell_type": "code",
   "execution_count": 9,
   "id": "586e7f4c",
   "metadata": {},
   "outputs": [],
   "source": [
    "def get_text_vector(text):\n",
    "\n",
    "    vector = np.zeros(300)\n",
    "    count = 0\n",
    "    for token in text:\n",
    "        try:\n",
    "            vector += model.wv[token]\n",
    "            count += 1\n",
    "        except KeyError:\n",
    "            continue\n",
    "    if count != 0:\n",
    "        vector /= count\n",
    "    return vector\n",
    "\n",
    "data['text_vector'] = data['tokens'].apply(get_text_vector)"
   ]
  },
  {
   "cell_type": "code",
   "execution_count": 10,
   "id": "16f2b62b",
   "metadata": {},
   "outputs": [],
   "source": [
    "\n",
    "Y=pd.get_dummies(data['class'])\n",
    "Y=Y.iloc[:,1].values"
   ]
  },
  {
   "cell_type": "code",
   "execution_count": 11,
   "id": "8fa27cd1",
   "metadata": {},
   "outputs": [],
   "source": [
    "from sklearn.model_selection import train_test_split\n",
    "X_train, X_test, Y_train, Y_test = train_test_split(data['text_vector'], Y, test_size=0.20)"
   ]
  },
  {
   "cell_type": "code",
   "execution_count": 12,
   "id": "8ab2c3d3",
   "metadata": {},
   "outputs": [],
   "source": [
    "from sklearn.linear_model import LogisticRegression\n",
    "classifier=LogisticRegression()"
   ]
  },
  {
   "cell_type": "code",
   "execution_count": 13,
   "id": "29216ef4",
   "metadata": {},
   "outputs": [
    {
     "data": {
      "text/html": [
       "<div>\n",
       "<style scoped>\n",
       "    .dataframe tbody tr th:only-of-type {\n",
       "        vertical-align: middle;\n",
       "    }\n",
       "\n",
       "    .dataframe tbody tr th {\n",
       "        vertical-align: top;\n",
       "    }\n",
       "\n",
       "    .dataframe thead th {\n",
       "        text-align: right;\n",
       "    }\n",
       "</style>\n",
       "<table border=\"1\" class=\"dataframe\">\n",
       "  <thead>\n",
       "    <tr style=\"text-align: right;\">\n",
       "      <th></th>\n",
       "      <th>Unnamed: 0</th>\n",
       "      <th>text</th>\n",
       "      <th>class</th>\n",
       "      <th>clean_msg</th>\n",
       "      <th>tokens</th>\n",
       "      <th>text_vector</th>\n",
       "    </tr>\n",
       "  </thead>\n",
       "  <tbody>\n",
       "    <tr>\n",
       "      <th>0</th>\n",
       "      <td>3</td>\n",
       "      <td>Am I weird I don't get affected by compliments...</td>\n",
       "      <td>non-suicide</td>\n",
       "      <td>weird not get affected compliment coming someo...</td>\n",
       "      <td>[weird, not, get, affected, compliment, coming...</td>\n",
       "      <td>[0.5407201942455556, -0.08848694099911622, -0....</td>\n",
       "    </tr>\n",
       "    <tr>\n",
       "      <th>1</th>\n",
       "      <td>4</td>\n",
       "      <td>Finally 2020 is almost over... So I can never ...</td>\n",
       "      <td>non-suicide</td>\n",
       "      <td>finally almost never hear bad year ever swear ...</td>\n",
       "      <td>[finally, almost, never, hear, bad, year, ever...</td>\n",
       "      <td>[0.5985931835391305, -0.33134869587692345, -0....</td>\n",
       "    </tr>\n",
       "    <tr>\n",
       "      <th>2</th>\n",
       "      <td>8</td>\n",
       "      <td>i need helpjust help me im crying so hard</td>\n",
       "      <td>suicide</td>\n",
       "      <td>need help help cry hard</td>\n",
       "      <td>[need, help, help, cry, hard]</td>\n",
       "      <td>[0.8355496942996978, 0.23047131150960923, -0.0...</td>\n",
       "    </tr>\n",
       "    <tr>\n",
       "      <th>3</th>\n",
       "      <td>13</td>\n",
       "      <td>It ends tonight.I can’t do it anymore. \\nI quit.</td>\n",
       "      <td>suicide</td>\n",
       "      <td>end tonight not anymore quit</td>\n",
       "      <td>[end, tonight, not, anymore, quit]</td>\n",
       "      <td>[0.784874314069748, -0.04051447212696076, -0.2...</td>\n",
       "    </tr>\n",
       "    <tr>\n",
       "      <th>4</th>\n",
       "      <td>19</td>\n",
       "      <td>I took the rest of my sleeping pills and my pa...</td>\n",
       "      <td>suicide</td>\n",
       "      <td>took rest sleeping pill painkiller not wait en...</td>\n",
       "      <td>[took, rest, sleeping, pill, painkiller, not, ...</td>\n",
       "      <td>[0.7512005527432148, 0.16487300797150686, 0.31...</td>\n",
       "    </tr>\n",
       "  </tbody>\n",
       "</table>\n",
       "</div>"
      ],
      "text/plain": [
       "   Unnamed: 0                                               text        class  \\\n",
       "0           3  Am I weird I don't get affected by compliments...  non-suicide   \n",
       "1           4  Finally 2020 is almost over... So I can never ...  non-suicide   \n",
       "2           8          i need helpjust help me im crying so hard      suicide   \n",
       "3          13   It ends tonight.I can’t do it anymore. \\nI quit.      suicide   \n",
       "4          19  I took the rest of my sleeping pills and my pa...      suicide   \n",
       "\n",
       "                                           clean_msg  \\\n",
       "0  weird not get affected compliment coming someo...   \n",
       "1  finally almost never hear bad year ever swear ...   \n",
       "2                            need help help cry hard   \n",
       "3                       end tonight not anymore quit   \n",
       "4  took rest sleeping pill painkiller not wait en...   \n",
       "\n",
       "                                              tokens  \\\n",
       "0  [weird, not, get, affected, compliment, coming...   \n",
       "1  [finally, almost, never, hear, bad, year, ever...   \n",
       "2                      [need, help, help, cry, hard]   \n",
       "3                 [end, tonight, not, anymore, quit]   \n",
       "4  [took, rest, sleeping, pill, painkiller, not, ...   \n",
       "\n",
       "                                         text_vector  \n",
       "0  [0.5407201942455556, -0.08848694099911622, -0....  \n",
       "1  [0.5985931835391305, -0.33134869587692345, -0....  \n",
       "2  [0.8355496942996978, 0.23047131150960923, -0.0...  \n",
       "3  [0.784874314069748, -0.04051447212696076, -0.2...  \n",
       "4  [0.7512005527432148, 0.16487300797150686, 0.31...  "
      ]
     },
     "execution_count": 13,
     "metadata": {},
     "output_type": "execute_result"
    }
   ],
   "source": [
    "data.head()"
   ]
  },
  {
   "cell_type": "code",
   "execution_count": 14,
   "id": "a95e8a0f",
   "metadata": {},
   "outputs": [
    {
     "name": "stderr",
     "output_type": "stream",
     "text": [
      "C:\\python310\\lib\\site-packages\\sklearn\\linear_model\\_logistic.py:458: ConvergenceWarning: lbfgs failed to converge (status=1):\n",
      "STOP: TOTAL NO. of ITERATIONS REACHED LIMIT.\n",
      "\n",
      "Increase the number of iterations (max_iter) or scale the data as shown in:\n",
      "    https://scikit-learn.org/stable/modules/preprocessing.html\n",
      "Please also refer to the documentation for alternative solver options:\n",
      "    https://scikit-learn.org/stable/modules/linear_model.html#logistic-regression\n",
      "  n_iter_i = _check_optimize_result(\n"
     ]
    },
    {
     "data": {
      "text/html": [
       "<style>#sk-container-id-1 {color: black;background-color: white;}#sk-container-id-1 pre{padding: 0;}#sk-container-id-1 div.sk-toggleable {background-color: white;}#sk-container-id-1 label.sk-toggleable__label {cursor: pointer;display: block;width: 100%;margin-bottom: 0;padding: 0.3em;box-sizing: border-box;text-align: center;}#sk-container-id-1 label.sk-toggleable__label-arrow:before {content: \"▸\";float: left;margin-right: 0.25em;color: #696969;}#sk-container-id-1 label.sk-toggleable__label-arrow:hover:before {color: black;}#sk-container-id-1 div.sk-estimator:hover label.sk-toggleable__label-arrow:before {color: black;}#sk-container-id-1 div.sk-toggleable__content {max-height: 0;max-width: 0;overflow: hidden;text-align: left;background-color: #f0f8ff;}#sk-container-id-1 div.sk-toggleable__content pre {margin: 0.2em;color: black;border-radius: 0.25em;background-color: #f0f8ff;}#sk-container-id-1 input.sk-toggleable__control:checked~div.sk-toggleable__content {max-height: 200px;max-width: 100%;overflow: auto;}#sk-container-id-1 input.sk-toggleable__control:checked~label.sk-toggleable__label-arrow:before {content: \"▾\";}#sk-container-id-1 div.sk-estimator input.sk-toggleable__control:checked~label.sk-toggleable__label {background-color: #d4ebff;}#sk-container-id-1 div.sk-label input.sk-toggleable__control:checked~label.sk-toggleable__label {background-color: #d4ebff;}#sk-container-id-1 input.sk-hidden--visually {border: 0;clip: rect(1px 1px 1px 1px);clip: rect(1px, 1px, 1px, 1px);height: 1px;margin: -1px;overflow: hidden;padding: 0;position: absolute;width: 1px;}#sk-container-id-1 div.sk-estimator {font-family: monospace;background-color: #f0f8ff;border: 1px dotted black;border-radius: 0.25em;box-sizing: border-box;margin-bottom: 0.5em;}#sk-container-id-1 div.sk-estimator:hover {background-color: #d4ebff;}#sk-container-id-1 div.sk-parallel-item::after {content: \"\";width: 100%;border-bottom: 1px solid gray;flex-grow: 1;}#sk-container-id-1 div.sk-label:hover label.sk-toggleable__label {background-color: #d4ebff;}#sk-container-id-1 div.sk-serial::before {content: \"\";position: absolute;border-left: 1px solid gray;box-sizing: border-box;top: 0;bottom: 0;left: 50%;z-index: 0;}#sk-container-id-1 div.sk-serial {display: flex;flex-direction: column;align-items: center;background-color: white;padding-right: 0.2em;padding-left: 0.2em;position: relative;}#sk-container-id-1 div.sk-item {position: relative;z-index: 1;}#sk-container-id-1 div.sk-parallel {display: flex;align-items: stretch;justify-content: center;background-color: white;position: relative;}#sk-container-id-1 div.sk-item::before, #sk-container-id-1 div.sk-parallel-item::before {content: \"\";position: absolute;border-left: 1px solid gray;box-sizing: border-box;top: 0;bottom: 0;left: 50%;z-index: -1;}#sk-container-id-1 div.sk-parallel-item {display: flex;flex-direction: column;z-index: 1;position: relative;background-color: white;}#sk-container-id-1 div.sk-parallel-item:first-child::after {align-self: flex-end;width: 50%;}#sk-container-id-1 div.sk-parallel-item:last-child::after {align-self: flex-start;width: 50%;}#sk-container-id-1 div.sk-parallel-item:only-child::after {width: 0;}#sk-container-id-1 div.sk-dashed-wrapped {border: 1px dashed gray;margin: 0 0.4em 0.5em 0.4em;box-sizing: border-box;padding-bottom: 0.4em;background-color: white;}#sk-container-id-1 div.sk-label label {font-family: monospace;font-weight: bold;display: inline-block;line-height: 1.2em;}#sk-container-id-1 div.sk-label-container {text-align: center;}#sk-container-id-1 div.sk-container {/* jupyter's `normalize.less` sets `[hidden] { display: none; }` but bootstrap.min.css set `[hidden] { display: none !important; }` so we also need the `!important` here to be able to override the default hidden behavior on the sphinx rendered scikit-learn.org. See: https://github.com/scikit-learn/scikit-learn/issues/21755 */display: inline-block !important;position: relative;}#sk-container-id-1 div.sk-text-repr-fallback {display: none;}</style><div id=\"sk-container-id-1\" class=\"sk-top-container\"><div class=\"sk-text-repr-fallback\"><pre>LogisticRegression()</pre><b>In a Jupyter environment, please rerun this cell to show the HTML representation or trust the notebook. <br />On GitHub, the HTML representation is unable to render, please try loading this page with nbviewer.org.</b></div><div class=\"sk-container\" hidden><div class=\"sk-item\"><div class=\"sk-estimator sk-toggleable\"><input class=\"sk-toggleable__control sk-hidden--visually\" id=\"sk-estimator-id-1\" type=\"checkbox\" checked><label for=\"sk-estimator-id-1\" class=\"sk-toggleable__label sk-toggleable__label-arrow\">LogisticRegression</label><div class=\"sk-toggleable__content\"><pre>LogisticRegression()</pre></div></div></div></div></div>"
      ],
      "text/plain": [
       "LogisticRegression()"
      ]
     },
     "execution_count": 14,
     "metadata": {},
     "output_type": "execute_result"
    }
   ],
   "source": [
    "classifier.fit(list(X_train),Y_train)"
   ]
  },
  {
   "cell_type": "code",
   "execution_count": 15,
   "id": "49490066",
   "metadata": {},
   "outputs": [
    {
     "name": "stdout",
     "output_type": "stream",
     "text": [
      "0.9072605062371322\n"
     ]
    }
   ],
   "source": [
    "from sklearn.metrics import accuracy_score\n",
    "Y_pred=classifier.predict(list(X_test))\n",
    "accuracy=accuracy_score(Y_test,Y_pred)\n",
    "print(accuracy)"
   ]
  },
  {
   "cell_type": "code",
   "execution_count": 16,
   "id": "92588a10",
   "metadata": {},
   "outputs": [],
   "source": [
    "sen = nltk.word_tokenize(\"i want to die\")"
   ]
  },
  {
   "cell_type": "code",
   "execution_count": 17,
   "id": "0e46e9a7",
   "metadata": {},
   "outputs": [
    {
     "name": "stdout",
     "output_type": "stream",
     "text": [
      "[0.5762385725975037, -0.0984963874022166, -0.11126238387078047, 0.30042550588647526, 0.2376305634776751, 0.4815494517485301, -0.23239566882451376, 0.0634626845518748, 0.5433833271963522, -0.06363532195488612, -0.3446246882279714, -0.4836021363735199, -0.07430082559585571, 0.3616715023914973, 0.40280570338169736, -0.1123958167930444, 0.5115174750487009, 0.09780927499135335, 0.2387228806813558, -0.48330103357632953, -0.06816166980812947, -0.5221531987190247, 0.06429358075062434, 0.15027713092664877, -0.2886059284210205, 0.08475010345379512, -0.17361079653104147, 0.38857096433639526, 0.2232341015090545, 0.7288736701011658, 0.842344065507253, -0.20790222783883414, -0.007659097512563069, 0.27186257640520733, -0.18396742145220438, 0.4850363532702128, -0.9400685826937357, 0.5153824736674627, -0.1615237593650818, -0.06775242586930592, -0.2535271644592285, 0.06679810086886089, 0.3988608469565709, -0.10152081151803334, 0.05062194665273031, -0.05000993609428406, 0.005466173092524211, -0.036949560046195984, 0.2631932993729909, 0.03111467758814494, 0.023077964782714844, -0.040821785728136696, 0.1823291853070259, 0.13870084285736084, 0.4432754764954249, -0.3148790846268336, -0.7867055237293243, 0.025176089257001877, -0.6050532590597868, -0.11148697634538014, -0.577665776014328, -0.3510643045107524, -0.2667478819688161, 0.5015141765276591, -0.07209471613168716, 0.14441683888435364, 0.2690228223800659, -0.09621218343575795, 0.02139616757631302, -0.0022174293796221414, 0.23144936996201673, 0.22428134828805923, -0.5639797399441401, 0.04803187648455302, 0.48522481322288513, -0.22575960059960684, 0.13307294497887293, 0.05745931466420492, 0.04103824496269226, -0.23522009203831354, -0.16087788343429565, -0.38464844475189847, -0.27150700489679974, 0.20041112105051676, -0.44255127509435016, -0.052465533216794334, -0.11552328926821549, 0.2068461055556933, -0.1959331432978312, 0.20151681701342264, 0.1917922099431356, 0.3600599616765976, 0.06364298363526662, -0.1991926891108354, -0.05506400763988495, 0.31572877367337543, -0.13450412079691887, 0.5599954724311829, -0.5511918763319651, 0.851179430882136, -0.21575035651524863, 0.21933075288931528, -0.7376537919044495, -0.4078247472643852, -0.18723666885246834, 0.3107150048017502, -0.6305609941482544, -0.40593008200327557, -0.10316470762093861, -0.5027144849300385, -0.49327300985654193, 0.0655819270759821, 0.14095093806584677, -0.19905649622281393, -0.3668518111420174, 0.5183115353186926, -0.045669386784235634, -0.05737625062465668, -0.38277723360806704, 0.4726100191473961, 0.4019657373428345, 0.22136837244033813, 0.1952256759007772, -0.45740149666865665, 0.3762875497341156, 0.2589304447174072, -0.4664180167019367, -0.4577639698982239, 0.09005290269851685, 0.2825843244791031, 0.06363467375437419, 0.545139990746975, -0.04620562493801117, -0.42385925849278766, -0.33762726684411365, 0.22817015616844097, -1.042759120464325, -0.17284371455510458, -0.2339094082514445, 0.43652763962745667, 0.2851561705271403, -0.1915265421072642, -0.2053065001964569, -0.06807374209165573, -0.08469186723232269, -0.4404013653596242, 0.6197320620218912, -0.16518507401148477, -0.2537195285161336, -0.20587567488352457, -0.22938730319341025, -0.2341340978940328, 0.4293234646320343, 0.07180734723806381, 0.42579508821169537, -0.08940444389979045, 0.29770622712870437, 0.4313134253025055, 0.35776568079988164, 0.12959196045994759, 0.14425815641880035, -0.13740267604589462, 1.106225351492564, -0.4401795429488023, 0.41849547252058983, -0.20395908753077188, 0.2526188790798187, 0.09855121870835622, -0.582987387975057, -0.23747297624746957, 0.23923098916808763, -0.4709993253151576, -0.054886440436045326, -0.23633232712745667, 0.5103261470794678, 0.41297266880671185, -0.30019373695055646, -0.34505256684497, 0.3412865847349167, 0.2261935422817866, 0.0005193799734115601, 0.4284649093945821, -0.2456868588924408, 0.22110227743784586, -0.01041121780872345, 0.5362830186883608, 0.04122975468635559, 0.5783146123091379, -0.050286680459976196, -0.17230656494696936, 0.5734311193227768, 0.08396289745966594, -0.5793042232592901, 0.13462464014689127, 0.3085445165634155, -0.5906446923812231, 0.6169849795599779, -0.16826712091763815, -0.49072742462158203, -0.3554639518260956, 0.35506461064020794, -0.5297655961524773, -0.07395679752031963, 0.19666525721549988, 0.014009525378545126, 0.31148303548494977, -0.02447282274564107, -0.3800384004910787, -0.2893600674966971, -0.1054841677347819, -0.11067791779836018, 0.06845228746533394, 0.39448272188504535, -0.9051602426916361, -0.20770816008249918, 0.1722321386138598, 0.12035402655601501, -0.47182504336039227, -0.0686086614926656, -0.033923596143722534, 0.007707878481596708, 0.7836607980231444, -0.15277213851610819, -0.018813838561375935, 0.26213771974047023, 0.8369389772415161, 0.3805447965860367, -0.5520714620749155, -0.09225456913312276, -0.23857817550500235, -0.7569980273644129, 0.12241586049397786, 0.1914601381868124, 0.603611538807551, -0.2716117749611537, -0.277136804535985, -0.050266961256663, 0.040289510041475296, -0.40714506308237713, -0.8798780714472135, -0.23225202908118567, 0.17401761809984842, 0.8273984889189402, -0.13730223973592123, 0.5938684741655985, -0.3070445656776428, 0.46779104818900424, -0.2944958470761776, -0.06078937649726868, 0.35034910837809247, 0.294121411939462, 0.16005713740984598, 0.35457560916741687, -0.7481656074523926, -0.5237155556678772, -0.49234370662209886, 0.13739274069666862, -0.37864592174688977, 0.06401415665944417, 0.07019742826620738, -0.5232304086287817, 0.32104580601056415, 0.14371325572331747, -0.4782375941673915, -0.165371714780728, 0.27648950430254143, 0.238074392080307, 0.19833610455195108, -0.7970973948637644, -0.8356384535630544, -0.5644417901833853, 0.03554244339466095, 0.07776410380999248, -0.25460912473499775, 0.47897427280743915, 0.2853196660677592, 0.3242558042208354, 0.3993208607037862, -0.9210842053095499, 0.21968510560691357, -0.6156269013881683, -0.1647821068763733, -0.3275628685951233, -0.19879706700642905, 0.26322586337725323, 0.39102718109885853, 0.3029867460330327, 0.7674526373545328, -0.5620800033211708, 0.0139986885090669, -0.3459617694218953, 0.4639672537644704, -0.32266096274058026, 0.05562847356001536, 0.024868736664454143, -0.3672000306348006, 0.04662385086218516, 0.3066209852695465, 0.1419843782981237, -0.07680485025048256]\n"
     ]
    }
   ],
   "source": [
    "k = list(get_text_vector(sen))\n",
    "print(k)"
   ]
  },
  {
   "cell_type": "code",
   "execution_count": 18,
   "id": "ff21ab6d",
   "metadata": {},
   "outputs": [],
   "source": [
    "Y_pred = classifier.predict([k])"
   ]
  },
  {
   "cell_type": "code",
   "execution_count": 19,
   "id": "4c0843f1",
   "metadata": {},
   "outputs": [
    {
     "name": "stdout",
     "output_type": "stream",
     "text": [
      "[0]\n"
     ]
    }
   ],
   "source": [
    "print(Y_pred)"
   ]
  },
  {
   "cell_type": "code",
   "execution_count": null,
   "id": "347208a3",
   "metadata": {},
   "outputs": [],
   "source": []
  }
 ],
 "metadata": {
  "kernelspec": {
   "display_name": "Python 3 (ipykernel)",
   "language": "python",
   "name": "python3"
  },
  "language_info": {
   "codemirror_mode": {
    "name": "ipython",
    "version": 3
   },
   "file_extension": ".py",
   "mimetype": "text/x-python",
   "name": "python",
   "nbconvert_exporter": "python",
   "pygments_lexer": "ipython3",
   "version": "3.10.9"
  }
 },
 "nbformat": 4,
 "nbformat_minor": 5
}
