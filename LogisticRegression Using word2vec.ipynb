{
 "cells": [
  {
   "cell_type": "code",
   "execution_count": 1,
   "id": "963171cc",
   "metadata": {},
   "outputs": [],
   "source": [
    "import numpy as np\n",
    "import pandas as pd\n",
    "data=pd.read_csv('suicide_detection_final_cleaned.csv',encoding='utf-8')"
   ]
  },
  {
   "cell_type": "code",
   "execution_count": 3,
   "id": "eb21f830",
   "metadata": {},
   "outputs": [],
   "source": [
    "from gensim.models import Word2Vec\n",
    "import nltk"
   ]
  },
  {
   "cell_type": "code",
   "execution_count": 4,
   "id": "8887fc39",
   "metadata": {},
   "outputs": [],
   "source": [
    "data['tokens'] = data['clean_msg'].apply(lambda x:nltk.word_tokenize(x))"
   ]
  },
  {
   "cell_type": "code",
   "execution_count": 5,
   "id": "de7ca00b",
   "metadata": {},
   "outputs": [],
   "source": [
    "model = Word2Vec(data['tokens'], vector_size=300, min_count=1)"
   ]
  },
  {
   "cell_type": "code",
   "execution_count": 6,
   "id": "34a4990f",
   "metadata": {},
   "outputs": [],
   "source": [
    "model.save(\"word2vec.model\")"
   ]
  },
  {
   "cell_type": "code",
   "execution_count": 7,
   "id": "0aca1045",
   "metadata": {},
   "outputs": [],
   "source": [
    "from gensim.models import KeyedVectors"
   ]
  },
  {
   "cell_type": "code",
   "execution_count": 8,
   "id": "77af6ee1",
   "metadata": {},
   "outputs": [],
   "source": [
    "model = KeyedVectors.load(\"word2vec.model\", mmap='r')"
   ]
  },
  {
   "cell_type": "code",
   "execution_count": 9,
   "id": "2b7d6f6f",
   "metadata": {
    "scrolled": true
   },
   "outputs": [
    {
     "data": {
      "text/plain": [
       "memmap([-2.26258144e-01, -3.21600646e-01, -6.99002147e-01,\n",
       "         4.21589166e-01, -7.53891528e-01,  6.09559454e-02,\n",
       "         1.67643115e-01,  4.64322150e-01,  5.80749035e-01,\n",
       "        -4.18256819e-02, -3.22639436e-01,  5.82535803e-01,\n",
       "        -3.56135994e-01,  4.81355995e-01,  7.07830489e-02,\n",
       "        -3.39653224e-01,  4.39006776e-01, -6.34209439e-02,\n",
       "        -6.14248097e-01,  3.79786998e-01, -1.05857700e-01,\n",
       "        -6.12417579e-01, -1.12098289e+00, -5.11448801e-01,\n",
       "         7.14346468e-01, -3.39859538e-02, -8.78177166e-01,\n",
       "         1.52720168e-01,  6.92061186e-02,  1.31340814e+00,\n",
       "         1.43148100e+00, -6.54048800e-01,  5.62629402e-01,\n",
       "         1.59638092e-01, -4.00052547e-01,  9.65662673e-02,\n",
       "        -6.19981050e-01, -2.58613914e-01, -3.87924723e-02,\n",
       "         2.55553067e-01,  2.40983739e-01,  4.49628115e-01,\n",
       "         1.53401089e+00,  1.44533432e+00,  8.07042003e-01,\n",
       "        -2.65836895e-01,  3.33863139e-01,  1.28442645e-01,\n",
       "        -1.26132071e-01,  8.39488268e-01, -9.61854756e-02,\n",
       "         6.57163084e-01,  1.02486086e+00,  1.68697685e-01,\n",
       "         3.03605855e-01,  3.96421105e-02,  4.94473279e-01,\n",
       "         1.15499485e+00,  1.95718691e-01, -1.35235712e-01,\n",
       "         6.89437762e-02,  4.26575661e-01,  3.70344609e-01,\n",
       "        -2.93839514e-01, -1.38246608e+00,  8.81048799e-01,\n",
       "        -1.41164467e-01, -1.11061823e+00,  3.55776966e-01,\n",
       "        -9.99408126e-01, -7.39168406e-01,  1.09479284e+00,\n",
       "         7.00367868e-01,  6.79505050e-01, -3.29022050e-01,\n",
       "        -1.30537260e+00,  3.11437160e-01, -7.22415090e-01,\n",
       "         5.77544153e-01, -6.89997733e-01, -1.74557954e-01,\n",
       "        -1.79120764e-01,  6.34168208e-01,  6.56615436e-01,\n",
       "         9.20135379e-01, -1.22268820e+00, -6.16448998e-01,\n",
       "        -6.18162811e-01,  5.38730085e-01,  5.06474257e-01,\n",
       "         5.94686046e-02, -7.00887203e-01,  3.58752340e-01,\n",
       "         4.42641079e-01,  9.76041138e-01,  7.41838574e-01,\n",
       "         5.32348454e-01,  1.53519821e+00, -1.55686557e-01,\n",
       "        -5.50063737e-02, -1.95380673e-01, -1.72656953e-01,\n",
       "         9.27518308e-01,  6.61809325e-01, -8.41039300e-01,\n",
       "        -7.10051417e-01,  2.00987190e-01, -5.78638256e-01,\n",
       "        -6.23869598e-01,  9.25688326e-01, -5.30506968e-01,\n",
       "        -8.93349469e-01,  7.53139257e-01,  2.00353250e-01,\n",
       "         1.93882540e-01,  4.85481530e-01,  1.68176734e+00,\n",
       "        -1.18450709e-01, -1.54932603e-01, -6.26633465e-02,\n",
       "         7.69119799e-01, -2.89023668e-01,  1.00920975e+00,\n",
       "        -5.01868010e-01,  5.89201808e-01, -1.55591235e-01,\n",
       "         4.11142170e-01,  1.78596988e-01, -1.77159846e-01,\n",
       "         4.90558445e-01, -2.37787694e-01, -7.97935069e-01,\n",
       "         2.14293338e-02, -5.47828078e-01, -4.38019693e-01,\n",
       "        -2.69580632e-01, -2.96137426e-02, -5.69713295e-01,\n",
       "        -1.69441211e+00,  1.06205240e-01, -4.21558842e-02,\n",
       "         1.48364887e-01, -3.75122964e-01, -4.28383112e-01,\n",
       "        -3.20030093e-01,  1.66203886e-01,  3.38167906e-01,\n",
       "         2.81488091e-01, -1.20745254e+00, -1.08585525e+00,\n",
       "        -4.83419836e-01, -2.66702533e-01, -9.03780818e-01,\n",
       "        -7.69310236e-01, -6.19640388e-02, -9.81139421e-01,\n",
       "         5.69926351e-02, -5.08274436e-01, -9.19129431e-01,\n",
       "         1.72825247e-01,  1.02573730e-01, -8.15506697e-01,\n",
       "        -1.03202057e+00,  9.23994899e-01, -7.03777254e-01,\n",
       "        -2.96822071e-01, -3.46983343e-01, -1.85170949e-01,\n",
       "         1.27717292e+00, -1.26254416e+00,  2.82484382e-01,\n",
       "         6.57395005e-01,  4.80500042e-01,  2.06543878e-02,\n",
       "         7.19158769e-01,  5.33739090e-01, -5.23460031e-01,\n",
       "        -5.12865245e-01, -4.95999098e-01,  4.64892060e-01,\n",
       "        -4.63010132e-01, -1.52450040e-01, -1.51252925e-01,\n",
       "         6.01278126e-01, -1.09216070e+00, -1.36500466e+00,\n",
       "         1.85572460e-01,  1.36945471e-01, -6.36937976e-01,\n",
       "         6.59078538e-01, -1.69523671e-01, -1.41355777e+00,\n",
       "        -7.04229534e-01,  1.27501905e+00,  1.64530087e+00,\n",
       "         7.57975876e-01,  1.06421523e-01, -1.01444030e+00,\n",
       "         8.29045951e-01, -9.98199880e-01,  1.50553927e-01,\n",
       "        -6.81888282e-01,  3.06540221e-01, -1.67840704e-01,\n",
       "         1.34847391e+00, -4.20559019e-01, -5.71480095e-01,\n",
       "         7.62856841e-01,  1.88631773e-01, -8.20545137e-01,\n",
       "        -2.33898014e-01, -2.27132529e-01, -4.97912407e-01,\n",
       "        -2.61252224e-02,  3.66363734e-01, -1.02748245e-01,\n",
       "        -5.81118107e-01, -3.40674043e-01, -1.76177211e-02,\n",
       "        -2.64430672e-01,  3.54470044e-01,  3.99460196e-02,\n",
       "         2.90992886e-01, -3.57277393e-02,  2.81597883e-01,\n",
       "        -1.38069892e+00,  2.47134760e-01,  5.40504873e-01,\n",
       "         6.12373173e-01,  1.89333558e-01, -2.11075008e-01,\n",
       "         1.04702699e+00, -2.80899525e-01,  7.41217554e-01,\n",
       "        -1.39807177e+00, -4.61467415e-01,  3.27980891e-02,\n",
       "         7.45071024e-02, -3.68194699e-01, -1.20134577e-01,\n",
       "         4.91542220e-01, -1.43842682e-01,  1.04275370e+00,\n",
       "         9.64151323e-01, -2.27958381e-01, -1.81213856e-01,\n",
       "        -2.36301467e-01,  8.71553063e-01,  7.51305223e-01,\n",
       "        -4.84747380e-01, -2.62159407e-01,  5.21568716e-01,\n",
       "         1.39902577e-01, -6.33288860e-01, -1.89986318e-01,\n",
       "         4.81713325e-01,  2.08360747e-01, -3.22209788e-03,\n",
       "         4.15130198e-01, -9.56748545e-01,  8.29359353e-01,\n",
       "         1.12707150e+00, -7.23725736e-01,  3.48446578e-01,\n",
       "        -3.82744581e-01, -6.28595710e-01,  1.49297750e+00,\n",
       "         2.10739285e-01, -3.39237839e-01,  5.83517730e-01,\n",
       "         5.62952012e-02, -8.68105590e-02,  1.90658346e-02,\n",
       "        -5.66778362e-01,  5.11731580e-02,  4.95131105e-01,\n",
       "         1.06024694e+00,  3.86306554e-01, -2.95832932e-01,\n",
       "        -6.91991985e-01, -8.80530059e-01,  2.99307287e-01,\n",
       "        -3.55087757e-01,  9.26729143e-01, -1.16784580e-01,\n",
       "         6.77576065e-01,  4.44613993e-02,  6.86584890e-01,\n",
       "         1.10881120e-01,  2.72599570e-02,  5.43007851e-01,\n",
       "         1.13138708e-03, -6.80909455e-02,  4.89126503e-01,\n",
       "        -2.76133828e-02,  1.92694354e+00,  7.16346577e-02,\n",
       "         1.76806301e-01, -1.71288494e-02,  4.36670743e-02], dtype=float32)"
      ]
     },
     "execution_count": 9,
     "metadata": {},
     "output_type": "execute_result"
    }
   ],
   "source": [
    "model.wv['word']"
   ]
  },
  {
   "cell_type": "code",
   "execution_count": 10,
   "id": "586e7f4c",
   "metadata": {},
   "outputs": [],
   "source": [
    "def get_text_vector(text):\n",
    "\n",
    "    vector = np.zeros(300)\n",
    "    count = 0\n",
    "    for token in text:\n",
    "        try:\n",
    "            vector += model.wv[token]\n",
    "            count += 1\n",
    "        except KeyError:\n",
    "            continue\n",
    "    if count != 0:\n",
    "        vector /= count\n",
    "    return vector\n",
    "\n",
    "data['text_vector'] = data['tokens'].apply(get_text_vector)"
   ]
  },
  {
   "cell_type": "code",
   "execution_count": 11,
   "id": "16f2b62b",
   "metadata": {},
   "outputs": [],
   "source": [
    "\n",
    "Y=pd.get_dummies(data['class'])\n",
    "Y=Y.iloc[:,1].values"
   ]
  },
  {
   "cell_type": "code",
   "execution_count": 12,
   "id": "8fa27cd1",
   "metadata": {},
   "outputs": [],
   "source": [
    "from sklearn.model_selection import train_test_split\n",
    "X_train, X_test, Y_train, Y_test = train_test_split(data['text_vector'], Y, test_size=0.20)"
   ]
  },
  {
   "cell_type": "code",
   "execution_count": 13,
   "id": "8ab2c3d3",
   "metadata": {},
   "outputs": [],
   "source": [
    "from sklearn.linear_model import LogisticRegression\n",
    "classifier=LogisticRegression()"
   ]
  },
  {
   "cell_type": "code",
   "execution_count": 14,
   "id": "29216ef4",
   "metadata": {},
   "outputs": [
    {
     "data": {
      "text/html": [
       "<div>\n",
       "<style scoped>\n",
       "    .dataframe tbody tr th:only-of-type {\n",
       "        vertical-align: middle;\n",
       "    }\n",
       "\n",
       "    .dataframe tbody tr th {\n",
       "        vertical-align: top;\n",
       "    }\n",
       "\n",
       "    .dataframe thead th {\n",
       "        text-align: right;\n",
       "    }\n",
       "</style>\n",
       "<table border=\"1\" class=\"dataframe\">\n",
       "  <thead>\n",
       "    <tr style=\"text-align: right;\">\n",
       "      <th></th>\n",
       "      <th>Unnamed: 0</th>\n",
       "      <th>text</th>\n",
       "      <th>class</th>\n",
       "      <th>clean_msg</th>\n",
       "      <th>tokens</th>\n",
       "      <th>text_vector</th>\n",
       "    </tr>\n",
       "  </thead>\n",
       "  <tbody>\n",
       "    <tr>\n",
       "      <th>0</th>\n",
       "      <td>3</td>\n",
       "      <td>Am I weird I don't get affected by compliments...</td>\n",
       "      <td>non-suicide</td>\n",
       "      <td>weird not get affected compliment coming someo...</td>\n",
       "      <td>[weird, not, get, affected, compliment, coming...</td>\n",
       "      <td>[0.6238929932670934, 0.20944110244246467, -0.5...</td>\n",
       "    </tr>\n",
       "    <tr>\n",
       "      <th>1</th>\n",
       "      <td>4</td>\n",
       "      <td>Finally 2020 is almost over... So I can never ...</td>\n",
       "      <td>non-suicide</td>\n",
       "      <td>finally almost never hear bad year ever swear ...</td>\n",
       "      <td>[finally, almost, never, hear, bad, year, ever...</td>\n",
       "      <td>[0.6550057484683666, 0.00988404622132128, -0.3...</td>\n",
       "    </tr>\n",
       "    <tr>\n",
       "      <th>2</th>\n",
       "      <td>8</td>\n",
       "      <td>i need helpjust help me im crying so hard</td>\n",
       "      <td>suicide</td>\n",
       "      <td>need help help cry hard</td>\n",
       "      <td>[need, help, help, cry, hard]</td>\n",
       "      <td>[0.8747987069189549, 0.43782693445682525, -0.0...</td>\n",
       "    </tr>\n",
       "    <tr>\n",
       "      <th>3</th>\n",
       "      <td>13</td>\n",
       "      <td>It ends tonight.I can’t do it anymore. \\nI quit.</td>\n",
       "      <td>suicide</td>\n",
       "      <td>end tonight not anymore quit</td>\n",
       "      <td>[end, tonight, not, anymore, quit]</td>\n",
       "      <td>[1.0231439232826234, -0.2721833140589297, -0.5...</td>\n",
       "    </tr>\n",
       "    <tr>\n",
       "      <th>4</th>\n",
       "      <td>19</td>\n",
       "      <td>I took the rest of my sleeping pills and my pa...</td>\n",
       "      <td>suicide</td>\n",
       "      <td>took rest sleeping pill painkiller not wait en...</td>\n",
       "      <td>[took, rest, sleeping, pill, painkiller, not, ...</td>\n",
       "      <td>[0.8087880370708612, 0.28490913143524754, 0.15...</td>\n",
       "    </tr>\n",
       "  </tbody>\n",
       "</table>\n",
       "</div>"
      ],
      "text/plain": [
       "   Unnamed: 0                                               text        class  \\\n",
       "0           3  Am I weird I don't get affected by compliments...  non-suicide   \n",
       "1           4  Finally 2020 is almost over... So I can never ...  non-suicide   \n",
       "2           8          i need helpjust help me im crying so hard      suicide   \n",
       "3          13   It ends tonight.I can’t do it anymore. \\nI quit.      suicide   \n",
       "4          19  I took the rest of my sleeping pills and my pa...      suicide   \n",
       "\n",
       "                                           clean_msg  \\\n",
       "0  weird not get affected compliment coming someo...   \n",
       "1  finally almost never hear bad year ever swear ...   \n",
       "2                            need help help cry hard   \n",
       "3                       end tonight not anymore quit   \n",
       "4  took rest sleeping pill painkiller not wait en...   \n",
       "\n",
       "                                              tokens  \\\n",
       "0  [weird, not, get, affected, compliment, coming...   \n",
       "1  [finally, almost, never, hear, bad, year, ever...   \n",
       "2                      [need, help, help, cry, hard]   \n",
       "3                 [end, tonight, not, anymore, quit]   \n",
       "4  [took, rest, sleeping, pill, painkiller, not, ...   \n",
       "\n",
       "                                         text_vector  \n",
       "0  [0.6238929932670934, 0.20944110244246467, -0.5...  \n",
       "1  [0.6550057484683666, 0.00988404622132128, -0.3...  \n",
       "2  [0.8747987069189549, 0.43782693445682525, -0.0...  \n",
       "3  [1.0231439232826234, -0.2721833140589297, -0.5...  \n",
       "4  [0.8087880370708612, 0.28490913143524754, 0.15...  "
      ]
     },
     "execution_count": 14,
     "metadata": {},
     "output_type": "execute_result"
    }
   ],
   "source": [
    "data.head()"
   ]
  },
  {
   "cell_type": "code",
   "execution_count": 15,
   "id": "a95e8a0f",
   "metadata": {},
   "outputs": [
    {
     "name": "stderr",
     "output_type": "stream",
     "text": [
      "C:\\python310\\lib\\site-packages\\sklearn\\linear_model\\_logistic.py:458: ConvergenceWarning: lbfgs failed to converge (status=1):\n",
      "STOP: TOTAL NO. of ITERATIONS REACHED LIMIT.\n",
      "\n",
      "Increase the number of iterations (max_iter) or scale the data as shown in:\n",
      "    https://scikit-learn.org/stable/modules/preprocessing.html\n",
      "Please also refer to the documentation for alternative solver options:\n",
      "    https://scikit-learn.org/stable/modules/linear_model.html#logistic-regression\n",
      "  n_iter_i = _check_optimize_result(\n"
     ]
    },
    {
     "data": {
      "text/html": [
       "<style>#sk-container-id-1 {color: black;background-color: white;}#sk-container-id-1 pre{padding: 0;}#sk-container-id-1 div.sk-toggleable {background-color: white;}#sk-container-id-1 label.sk-toggleable__label {cursor: pointer;display: block;width: 100%;margin-bottom: 0;padding: 0.3em;box-sizing: border-box;text-align: center;}#sk-container-id-1 label.sk-toggleable__label-arrow:before {content: \"▸\";float: left;margin-right: 0.25em;color: #696969;}#sk-container-id-1 label.sk-toggleable__label-arrow:hover:before {color: black;}#sk-container-id-1 div.sk-estimator:hover label.sk-toggleable__label-arrow:before {color: black;}#sk-container-id-1 div.sk-toggleable__content {max-height: 0;max-width: 0;overflow: hidden;text-align: left;background-color: #f0f8ff;}#sk-container-id-1 div.sk-toggleable__content pre {margin: 0.2em;color: black;border-radius: 0.25em;background-color: #f0f8ff;}#sk-container-id-1 input.sk-toggleable__control:checked~div.sk-toggleable__content {max-height: 200px;max-width: 100%;overflow: auto;}#sk-container-id-1 input.sk-toggleable__control:checked~label.sk-toggleable__label-arrow:before {content: \"▾\";}#sk-container-id-1 div.sk-estimator input.sk-toggleable__control:checked~label.sk-toggleable__label {background-color: #d4ebff;}#sk-container-id-1 div.sk-label input.sk-toggleable__control:checked~label.sk-toggleable__label {background-color: #d4ebff;}#sk-container-id-1 input.sk-hidden--visually {border: 0;clip: rect(1px 1px 1px 1px);clip: rect(1px, 1px, 1px, 1px);height: 1px;margin: -1px;overflow: hidden;padding: 0;position: absolute;width: 1px;}#sk-container-id-1 div.sk-estimator {font-family: monospace;background-color: #f0f8ff;border: 1px dotted black;border-radius: 0.25em;box-sizing: border-box;margin-bottom: 0.5em;}#sk-container-id-1 div.sk-estimator:hover {background-color: #d4ebff;}#sk-container-id-1 div.sk-parallel-item::after {content: \"\";width: 100%;border-bottom: 1px solid gray;flex-grow: 1;}#sk-container-id-1 div.sk-label:hover label.sk-toggleable__label {background-color: #d4ebff;}#sk-container-id-1 div.sk-serial::before {content: \"\";position: absolute;border-left: 1px solid gray;box-sizing: border-box;top: 0;bottom: 0;left: 50%;z-index: 0;}#sk-container-id-1 div.sk-serial {display: flex;flex-direction: column;align-items: center;background-color: white;padding-right: 0.2em;padding-left: 0.2em;position: relative;}#sk-container-id-1 div.sk-item {position: relative;z-index: 1;}#sk-container-id-1 div.sk-parallel {display: flex;align-items: stretch;justify-content: center;background-color: white;position: relative;}#sk-container-id-1 div.sk-item::before, #sk-container-id-1 div.sk-parallel-item::before {content: \"\";position: absolute;border-left: 1px solid gray;box-sizing: border-box;top: 0;bottom: 0;left: 50%;z-index: -1;}#sk-container-id-1 div.sk-parallel-item {display: flex;flex-direction: column;z-index: 1;position: relative;background-color: white;}#sk-container-id-1 div.sk-parallel-item:first-child::after {align-self: flex-end;width: 50%;}#sk-container-id-1 div.sk-parallel-item:last-child::after {align-self: flex-start;width: 50%;}#sk-container-id-1 div.sk-parallel-item:only-child::after {width: 0;}#sk-container-id-1 div.sk-dashed-wrapped {border: 1px dashed gray;margin: 0 0.4em 0.5em 0.4em;box-sizing: border-box;padding-bottom: 0.4em;background-color: white;}#sk-container-id-1 div.sk-label label {font-family: monospace;font-weight: bold;display: inline-block;line-height: 1.2em;}#sk-container-id-1 div.sk-label-container {text-align: center;}#sk-container-id-1 div.sk-container {/* jupyter's `normalize.less` sets `[hidden] { display: none; }` but bootstrap.min.css set `[hidden] { display: none !important; }` so we also need the `!important` here to be able to override the default hidden behavior on the sphinx rendered scikit-learn.org. See: https://github.com/scikit-learn/scikit-learn/issues/21755 */display: inline-block !important;position: relative;}#sk-container-id-1 div.sk-text-repr-fallback {display: none;}</style><div id=\"sk-container-id-1\" class=\"sk-top-container\"><div class=\"sk-text-repr-fallback\"><pre>LogisticRegression()</pre><b>In a Jupyter environment, please rerun this cell to show the HTML representation or trust the notebook. <br />On GitHub, the HTML representation is unable to render, please try loading this page with nbviewer.org.</b></div><div class=\"sk-container\" hidden><div class=\"sk-item\"><div class=\"sk-estimator sk-toggleable\"><input class=\"sk-toggleable__control sk-hidden--visually\" id=\"sk-estimator-id-1\" type=\"checkbox\" checked><label for=\"sk-estimator-id-1\" class=\"sk-toggleable__label sk-toggleable__label-arrow\">LogisticRegression</label><div class=\"sk-toggleable__content\"><pre>LogisticRegression()</pre></div></div></div></div></div>"
      ],
      "text/plain": [
       "LogisticRegression()"
      ]
     },
     "execution_count": 15,
     "metadata": {},
     "output_type": "execute_result"
    }
   ],
   "source": [
    "classifier.fit(list(X_train),Y_train)"
   ]
  },
  {
   "cell_type": "code",
   "execution_count": 16,
   "id": "49490066",
   "metadata": {},
   "outputs": [
    {
     "name": "stdout",
     "output_type": "stream",
     "text": [
      "0.9073816155988857\n"
     ]
    }
   ],
   "source": [
    "from sklearn.metrics import accuracy_score\n",
    "Y_pred=classifier.predict(list(X_test))\n",
    "accuracy=accuracy_score(Y_test,Y_pred)\n",
    "print(accuracy)"
   ]
  },
  {
   "cell_type": "code",
   "execution_count": 20,
   "id": "92588a10",
   "metadata": {},
   "outputs": [],
   "source": [
    "sen = nltk.word_tokenize(\"feeling great after match\")"
   ]
  },
  {
   "cell_type": "code",
   "execution_count": 21,
   "id": "0e46e9a7",
   "metadata": {},
   "outputs": [
    {
     "name": "stdout",
     "output_type": "stream",
     "text": [
      "[0.8960498770078024, 0.07663871347904205, -0.5439740717411041, 0.3412509486079216, 0.3174014016985893, 0.3327668458223343, -0.18147167563438416, 0.3345889567087094, 0.6042284928262234, -0.03339319924513499, -0.09440566351016362, -0.3653976668914159, 0.2228893836339315, -0.05057696501413981, 0.6300887217124304, -0.03567698101202647, 0.7177359958489736, -0.19457458953062692, 0.2955287794272105, -0.22243268291155496, 0.06780276323358218, -0.5102298855781555, 0.1927669495344162, 0.23029042035341263, -0.24245770772298178, 0.37587278087933856, 0.3457320307691892, 0.40780483186244965, -0.13580001890659332, 0.6102050145467123, 0.7776667376359304, -0.15269138043125471, -0.23796821882327399, -0.06849936271707217, -0.09301285942395528, 0.49193175137043, -0.43197485742469627, 0.08434717768492798, 0.1762667124470075, -0.07454017549753189, -0.4031632641951243, 0.18717901657025018, 0.6678030230104923, 0.1616581194102764, -0.1289518972237905, 0.041018774112065635, 0.12634941935539246, 0.0735148973762989, 0.19481376806894937, -0.24204028646151224, -0.1390575816233953, -0.19999978442986807, 0.08554626256227493, 0.30880887309710187, 0.12014840915799141, -0.2714813621714711, -0.3779260665178299, -0.06462926665941875, -0.6351979722579321, -0.33498293658097583, -0.8331410884857178, -0.4102728267510732, -0.2177253452440103, 0.33676716685295105, 0.0005646049976348877, 0.22296550373236337, 0.02021696666876475, -0.19539955134193102, -0.032576983173688255, 0.03025107830762863, 0.28102149566014606, 0.07266914347807567, -0.40075380727648735, 0.12350570162137349, -0.0702701136469841, -0.16866778458158174, 0.6840980723500252, -0.24340880289673805, 0.22893055280049643, -0.0330208937327067, -0.43040808538595837, -0.4294989804426829, -0.4889797220627467, 0.2803366184234619, -0.3649640381336212, 0.30478499333063763, -0.05384436001380285, 0.36335381865501404, -0.05868732929229736, 0.5931567152341207, -0.06993146240711212, 0.49097780883312225, -0.020285651087760925, -0.022975494464238484, -0.15010343492031097, 0.5260781819621722, 0.04689552883307139, 0.6789923425142964, -0.8783504267533621, 1.2219529549280803, -0.08080485463142395, 0.20660850405693054, -0.34466304381688434, -0.11052375535170238, -0.30017878487706184, 0.1753765046596527, -0.37085191905498505, -0.31003082791964215, -0.32245463132858276, -0.7673045409222444, -0.48874864478905994, 0.07697342087825139, 0.06223567637304465, 0.17813310523827872, -0.40275490780671436, 0.5529654622077942, 0.1972547968228658, 0.08990887117882569, -0.02555344005425771, 0.044885980586210884, 0.658925666163365, 0.338855043053627, 0.21226738393306732, -0.6296639541784922, 0.04786894718805949, 0.5454614609479904, -0.4852704058090846, -0.5129989037911097, 0.29791814895967644, 0.15230105817317963, -0.17672292135345438, 0.4624631429711978, 0.060521709422270455, -0.346445972720782, -0.13322836657365164, 0.18552028139432272, -1.3086875081062317, -0.25367005666097003, -0.2812355359395345, 0.5722189346949259, 0.4043915867805481, -0.1461284657319387, -0.3296479284763336, -0.07658403366804123, -0.03894765426715215, -0.37456923723220825, 0.20417306820551553, -0.33893563350041706, -0.05516331891218821, -0.13740248729785284, -0.34457893172899884, -0.3952183226744334, -0.0027424891789754233, -0.16983155657847723, 0.23731879144906998, 0.11177183190981548, -0.140212282538414, 0.14732317502299944, 0.02078304688135783, 0.8898263374964396, 0.32778585453828174, -0.33624372879664105, 0.49863319161037606, -0.1717874010403951, -0.2331527421871821, -0.37009082237879437, 0.2937985261281331, 0.049192662040392555, -0.29648227492968243, 0.19280284643173218, -0.031581285409629345, -0.2545738418896993, 0.15806140502293906, 0.16546148022947213, 0.4143774559100469, 0.45525071521600086, -0.04364620645840963, -0.7117251455783844, 0.5987178087234497, 0.028731147448221844, 0.032954469323158264, 0.4056813716888428, -0.2560136864582698, 0.12285844484965007, -0.025344765434662502, 0.619253953297933, 0.15708672006924948, 0.5340670446554819, -0.03288567438721657, 0.05817194779713949, 0.5620113176604112, -0.5546225309371948, -0.7112126549084982, 0.35228755076726276, 0.34881023565928143, -0.3208708018064499, 0.5797517995039622, -0.1879211664199829, -0.2925863216320674, -0.1977738489707311, 0.33142786224683124, -0.5119396696488062, 0.10589595387379329, 0.28893927733103436, -0.04406090577443441, 0.003042300542195638, 0.1689642332494259, -0.551208691050609, -0.023029388238986332, -0.10160245498021443, 0.0564121479789416, 0.15089981257915497, 0.5245251109202703, -0.7469099660714468, -0.10814905166625977, 0.15028497576713562, 0.24126126865545908, -0.24696356058120728, -0.10507128636042277, -0.0004214048385620117, -0.0647690345843633, 0.614242802063624, 0.14733484387397766, 0.002215524514516195, 0.43946253259976703, 0.9820769429206848, 0.04269044039150079, -0.3864305764436722, 0.0964107687274615, -0.3934216004175444, -0.8648342738548914, 0.2789148688316345, 0.27415982633829117, 0.42946432779232663, 0.19161413113276163, -0.33484885779519874, 0.014620890220006308, 0.00896194577217102, -0.560156986117363, -0.23971008012692133, -0.11880716681480408, 0.006677755465110143, 0.9893262585004171, -0.32740376393000287, 0.47934556007385254, -0.03697782258192698, 0.5012547175089518, -0.12875308593114218, 0.04145737489064535, 0.07209157571196556, 0.3505692233641942, 0.11645914241671562, 0.022464260458946228, -0.674481213092804, -0.007099633415540059, -0.3327508295575778, -0.3725164799640576, -0.5945864121119181, 0.5140419894208511, 0.009082439045111338, -0.6563770473003387, 0.22326738635698953, 0.07261375586191814, 0.3447485702733199, 0.1628578007221222, 0.2191374363998572, -0.008281121651331583, 0.09084143241246541, -0.4313701242208481, -0.39854725698630017, -0.3785411516825358, 0.11189537029713392, -0.17332081000010172, -0.20515603944659233, 0.42857149491707486, 0.41740428656339645, -0.007308954993883769, 0.4541807572046916, -0.5886341830094656, 0.5188996543486913, -0.6495733857154846, 0.20328464110692343, -0.2127908809731404, -0.1930287778377533, 0.4743909041086833, 0.5052666912476221, 0.42312711539367837, 0.5560946986467267, -0.583447354263626, -0.1000450352827708, -0.23687793811162314, 0.020601073900858562, -0.617572195827961, -0.12640030217395784, 0.15545938412348428, -0.14714946349461874, -0.24168655027945837, 0.2134902427593867, 0.1449113910396894, -0.12541264792283377]\n"
     ]
    }
   ],
   "source": [
    "k = list(get_text_vector(sen))\n",
    "print(k)"
   ]
  },
  {
   "cell_type": "code",
   "execution_count": null,
   "id": "ff21ab6d",
   "metadata": {},
   "outputs": [],
   "source": [
    "Y_pred = "
   ]
  }
 ],
 "metadata": {
  "kernelspec": {
   "display_name": "Python 3 (ipykernel)",
   "language": "python",
   "name": "python3"
  },
  "language_info": {
   "codemirror_mode": {
    "name": "ipython",
    "version": 3
   },
   "file_extension": ".py",
   "mimetype": "text/x-python",
   "name": "python",
   "nbconvert_exporter": "python",
   "pygments_lexer": "ipython3",
   "version": "3.10.9"
  }
 },
 "nbformat": 4,
 "nbformat_minor": 5
}
